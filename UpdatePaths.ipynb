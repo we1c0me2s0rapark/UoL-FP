{
 "cells": [
  {
   "cell_type": "code",
   "execution_count": 9,
   "id": "c55d12ea-a5d0-4c23-82d4-143bfa5498e3",
   "metadata": {},
   "outputs": [],
   "source": [
    "# Display images\n",
    "import os\n",
    "import glob\n",
    "import pydicom\n",
    "import numpy as np\n",
    "import pandas as pd\n",
    "\n",
    "#pd.options.display.max_rows = 999\n",
    "pd.set_option('display.max_colwidth', None)"
   ]
  },
  {
   "cell_type": "code",
   "execution_count": 10,
   "id": "bcf95a81-a80f-4a92-acdf-94b18ff71165",
   "metadata": {},
   "outputs": [
    {
     "name": "stdout",
     "output_type": "stream",
     "text": [
      "Dataset path: C:\\Users\\lejam\\Desktop\\CBIS-DDSM\\manifest-1748122768688\n",
      "Meta path: C:\\Users\\lejam\\Desktop\\CBIS-DDSM\\manifest-1748122768688\\metadata.csv\n",
      "Mass training data path: C:\\Users\\lejam\\Desktop\\CBIS-DDSM\\manifest-1748122768688\\mass_case_description_train_set.csv\n",
      "Mass test data path: C:\\Users\\lejam\\Desktop\\CBIS-DDSM\\manifest-1748122768688\\mass_case_description_test_set.csv\n",
      "Calc training data path: C:\\Users\\lejam\\Desktop\\CBIS-DDSM\\manifest-1748122768688\\calc_case_description_train_set.csv\n",
      "Calc test data path: C:\\Users\\lejam\\Desktop\\CBIS-DDSM\\manifest-1748122768688\\calc_case_description_test_set.csv\n"
     ]
    }
   ],
   "source": [
    "from definitions import *\n",
    "\n",
    "print(f\"Dataset path: {data_root}\")\n",
    "print(f\"Meta path: {meta_path}\")\n",
    "print(f\"Mass training data path: {mass_train_path}\")\n",
    "print(f\"Mass test data path: {mass_test_path}\")\n",
    "print(f\"Calc training data path: {calc_train_path}\")\n",
    "print(f\"Calc test data path: {calc_test_path}\")"
   ]
  },
  {
   "cell_type": "code",
   "execution_count": 29,
   "id": "1161ff09-f92d-4677-80a9-de6f1b8907ce",
   "metadata": {},
   "outputs": [
    {
     "data": {
      "text/html": [
       "<div>\n",
       "<style scoped>\n",
       "    .dataframe tbody tr th:only-of-type {\n",
       "        vertical-align: middle;\n",
       "    }\n",
       "\n",
       "    .dataframe tbody tr th {\n",
       "        vertical-align: top;\n",
       "    }\n",
       "\n",
       "    .dataframe thead th {\n",
       "        text-align: right;\n",
       "    }\n",
       "</style>\n",
       "<table border=\"1\" class=\"dataframe\">\n",
       "  <thead>\n",
       "    <tr style=\"text-align: right;\">\n",
       "      <th></th>\n",
       "      <th>Series UID</th>\n",
       "      <th>Collection</th>\n",
       "      <th>3rd Party Analysis</th>\n",
       "      <th>Data Description URI</th>\n",
       "      <th>Subject ID</th>\n",
       "      <th>Study UID</th>\n",
       "      <th>Study Description</th>\n",
       "      <th>Study Date</th>\n",
       "      <th>Series Description</th>\n",
       "      <th>Manufacturer</th>\n",
       "      <th>Modality</th>\n",
       "      <th>SOP Class Name</th>\n",
       "      <th>SOP Class UID</th>\n",
       "      <th>Number of Images</th>\n",
       "      <th>File Size</th>\n",
       "      <th>File Location</th>\n",
       "      <th>Download Timestamp</th>\n",
       "    </tr>\n",
       "  </thead>\n",
       "  <tbody>\n",
       "    <tr>\n",
       "      <th>0</th>\n",
       "      <td>1.3.6.1.4.1.9590.100.1.2.374115997511889073021386151921807063992</td>\n",
       "      <td>CBIS-DDSM</td>\n",
       "      <td>NaN</td>\n",
       "      <td>https://doi.org/10.7937/K9/TCIA.2016.7O02S9CY</td>\n",
       "      <td>Calc-Test_P_00038_LEFT_CC</td>\n",
       "      <td>1.3.6.1.4.1.9590.100.1.2.85935434310203356712688695661986996009</td>\n",
       "      <td>NaN</td>\n",
       "      <td>08-29-2017</td>\n",
       "      <td>full mammogram images</td>\n",
       "      <td>NaN</td>\n",
       "      <td>MG</td>\n",
       "      <td>Secondary Capture Image Storage</td>\n",
       "      <td>1.2.840.10008.5.1.4.1.1.7</td>\n",
       "      <td>1</td>\n",
       "      <td>27.84 MB</td>\n",
       "      <td>.\\CBIS-DDSM\\Calc-Test_P_00038_LEFT_CC\\08-29-2017-DDSM-NA-96009\\1.000000-full mammogram images-63992</td>\n",
       "      <td>2025-05-24T22:44:39.334</td>\n",
       "    </tr>\n",
       "    <tr>\n",
       "      <th>1</th>\n",
       "      <td>1.3.6.1.4.1.9590.100.1.2.174390361112646747718661211471328897934</td>\n",
       "      <td>CBIS-DDSM</td>\n",
       "      <td>NaN</td>\n",
       "      <td>https://doi.org/10.7937/K9/TCIA.2016.7O02S9CY</td>\n",
       "      <td>Calc-Test_P_00038_LEFT_MLO</td>\n",
       "      <td>1.3.6.1.4.1.9590.100.1.2.384159464510350889125645400702639717613</td>\n",
       "      <td>NaN</td>\n",
       "      <td>08-29-2017</td>\n",
       "      <td>full mammogram images</td>\n",
       "      <td>NaN</td>\n",
       "      <td>MG</td>\n",
       "      <td>Secondary Capture Image Storage</td>\n",
       "      <td>1.2.840.10008.5.1.4.1.1.7</td>\n",
       "      <td>1</td>\n",
       "      <td>28.97 MB</td>\n",
       "      <td>.\\CBIS-DDSM\\Calc-Test_P_00038_LEFT_MLO\\08-29-2017-DDSM-NA-17613\\1.000000-full mammogram images-97934</td>\n",
       "      <td>2025-05-24T22:44:43.456</td>\n",
       "    </tr>\n",
       "    <tr>\n",
       "      <th>2</th>\n",
       "      <td>1.3.6.1.4.1.9590.100.1.2.188613955710170417803011787532523988680</td>\n",
       "      <td>CBIS-DDSM</td>\n",
       "      <td>NaN</td>\n",
       "      <td>https://doi.org/10.7937/K9/TCIA.2016.7O02S9CY</td>\n",
       "      <td>Calc-Test_P_00038_LEFT_MLO_1</td>\n",
       "      <td>1.3.6.1.4.1.9590.100.1.2.29112199613143138535387754440942211739</td>\n",
       "      <td>NaN</td>\n",
       "      <td>08-29-2017</td>\n",
       "      <td>ROI mask images</td>\n",
       "      <td>NaN</td>\n",
       "      <td>MG</td>\n",
       "      <td>Secondary Capture Image Storage</td>\n",
       "      <td>1.2.840.10008.5.1.4.1.1.7</td>\n",
       "      <td>2</td>\n",
       "      <td>14.62 MB</td>\n",
       "      <td>.\\CBIS-DDSM\\Calc-Test_P_00038_LEFT_MLO_1\\08-29-2017-DDSM-NA-11739\\1.000000-ROI mask images-88680</td>\n",
       "      <td>2025-05-24T22:44:44.687</td>\n",
       "    </tr>\n",
       "  </tbody>\n",
       "</table>\n",
       "</div>"
      ],
      "text/plain": [
       "                                                         Series UID  \\\n",
       "0  1.3.6.1.4.1.9590.100.1.2.374115997511889073021386151921807063992   \n",
       "1  1.3.6.1.4.1.9590.100.1.2.174390361112646747718661211471328897934   \n",
       "2  1.3.6.1.4.1.9590.100.1.2.188613955710170417803011787532523988680   \n",
       "\n",
       "  Collection  3rd Party Analysis  \\\n",
       "0  CBIS-DDSM                 NaN   \n",
       "1  CBIS-DDSM                 NaN   \n",
       "2  CBIS-DDSM                 NaN   \n",
       "\n",
       "                            Data Description URI  \\\n",
       "0  https://doi.org/10.7937/K9/TCIA.2016.7O02S9CY   \n",
       "1  https://doi.org/10.7937/K9/TCIA.2016.7O02S9CY   \n",
       "2  https://doi.org/10.7937/K9/TCIA.2016.7O02S9CY   \n",
       "\n",
       "                     Subject ID  \\\n",
       "0     Calc-Test_P_00038_LEFT_CC   \n",
       "1    Calc-Test_P_00038_LEFT_MLO   \n",
       "2  Calc-Test_P_00038_LEFT_MLO_1   \n",
       "\n",
       "                                                          Study UID  \\\n",
       "0   1.3.6.1.4.1.9590.100.1.2.85935434310203356712688695661986996009   \n",
       "1  1.3.6.1.4.1.9590.100.1.2.384159464510350889125645400702639717613   \n",
       "2   1.3.6.1.4.1.9590.100.1.2.29112199613143138535387754440942211739   \n",
       "\n",
       "   Study Description  Study Date     Series Description  Manufacturer  \\\n",
       "0                NaN  08-29-2017  full mammogram images           NaN   \n",
       "1                NaN  08-29-2017  full mammogram images           NaN   \n",
       "2                NaN  08-29-2017        ROI mask images           NaN   \n",
       "\n",
       "  Modality                   SOP Class Name              SOP Class UID  \\\n",
       "0       MG  Secondary Capture Image Storage  1.2.840.10008.5.1.4.1.1.7   \n",
       "1       MG  Secondary Capture Image Storage  1.2.840.10008.5.1.4.1.1.7   \n",
       "2       MG  Secondary Capture Image Storage  1.2.840.10008.5.1.4.1.1.7   \n",
       "\n",
       "   Number of Images File Size  \\\n",
       "0                 1  27.84 MB   \n",
       "1                 1  28.97 MB   \n",
       "2                 2  14.62 MB   \n",
       "\n",
       "                                                                                          File Location  \\\n",
       "0   .\\CBIS-DDSM\\Calc-Test_P_00038_LEFT_CC\\08-29-2017-DDSM-NA-96009\\1.000000-full mammogram images-63992   \n",
       "1  .\\CBIS-DDSM\\Calc-Test_P_00038_LEFT_MLO\\08-29-2017-DDSM-NA-17613\\1.000000-full mammogram images-97934   \n",
       "2      .\\CBIS-DDSM\\Calc-Test_P_00038_LEFT_MLO_1\\08-29-2017-DDSM-NA-11739\\1.000000-ROI mask images-88680   \n",
       "\n",
       "        Download Timestamp  \n",
       "0  2025-05-24T22:44:39.334  \n",
       "1  2025-05-24T22:44:43.456  \n",
       "2  2025-05-24T22:44:44.687  "
      ]
     },
     "execution_count": 29,
     "metadata": {},
     "output_type": "execute_result"
    }
   ],
   "source": [
    "df_meta = pd.read_csv(meta_path)\n",
    "df_meta.head(3)"
   ]
  },
  {
   "cell_type": "code",
   "execution_count": 61,
   "id": "508fe335-883a-4513-90a1-55bd6a3e023d",
   "metadata": {},
   "outputs": [
    {
     "data": {
      "text/plain": [
       "(6775, 17)"
      ]
     },
     "execution_count": 61,
     "metadata": {},
     "output_type": "execute_result"
    }
   ],
   "source": [
    "df_meta.shape"
   ]
  },
  {
   "cell_type": "code",
   "execution_count": 66,
   "id": "7a6971e1-05ad-4bcc-bbe4-94b4e809c603",
   "metadata": {},
   "outputs": [],
   "source": [
    "class ImagePathUpdater:\n",
    "    def __init__(self, meta_data, target_data, column, root_path, number=None):\n",
    "        self.meta_data = meta_data\n",
    "        self.target_data = target_data\n",
    "        self.column = column\n",
    "        self.root_path = root_path\n",
    "        self.number = number\n",
    "    def worker(self, index, current_path, subject_id):\n",
    "        try:\n",
    "            for p in glob.glob(current_path):\n",
    "                if os.path.isdir(p):\n",
    "                    new_path = os.path.join(p, '*')\n",
    "                    self.worker(new_path)\n",
    "                else:\n",
    "                    # Parse each DICOM file\n",
    "                    ds = pydicom.dcmread(p)\n",
    "        \n",
    "                    # Categorise the file as either a cropped image or an ROI mask\n",
    "                    # ROI mask files contain only two pixel values: 0 (background) and 255 (region of interest)\n",
    "                    diff = np.setdiff1d(np.unique(ds.pixel_array), np.array([0, 255]))\n",
    "                    if self.column == 'cropped image file path' and diff.size == 0: continue\n",
    "                    if self.column == 'ROI mask file path' and diff.size > 0: continue\n",
    "        \n",
    "                    image_path_without_absolute_root = p[p.find(subject_id):]\n",
    "                    self.target_data.at[index, self.column] = image_path_without_absolute_root\n",
    "        except Exception as ex:\n",
    "            print(ex)\n",
    "    def update(self):\n",
    "        try:\n",
    "            data_num = self.number\n",
    "            if self.number is None:\n",
    "                data_num = self.target_data.shape[0]\n",
    "            # loop through images for display\n",
    "            for index, row in self.target_data.head(data_num).iterrows():\n",
    "                # Validate the file path\n",
    "                splitted_path = row[self.column].split('/')\n",
    "                if len(splitted_path) == 0: continue\n",
    "        \n",
    "                # Skip if no metadata is found\n",
    "                subject_id = splitted_path[0]\n",
    "                meta_data = self.meta_data[self.meta_data['Subject ID']==subject_id]\n",
    "                if meta_data.shape[0] == 0: continue\n",
    "        \n",
    "                # Iterate through available file locations for this subject\n",
    "                for d in meta_data['File Location']:\n",
    "                    path = os.path.join(self.root_path, d[2:], \"*\")\n",
    "    \n",
    "                    # Recursively search through folders to collect all image files\n",
    "                    self.worker(index, path, subject_id)\n",
    "        except Exception as ex:\n",
    "            print(ex)"
   ]
  },
  {
   "cell_type": "code",
   "execution_count": 67,
   "id": "034d2632-add9-47e1-8b11-ac57a3892cb7",
   "metadata": {},
   "outputs": [],
   "source": [
    "# Load mass datasets\n",
    "mass_train = pd.read_csv(mass_train_path)\n",
    "mass_test = pd.read_csv(mass_test_path)"
   ]
  },
  {
   "cell_type": "code",
   "execution_count": 68,
   "id": "3661a667-6bff-4cbc-a3cc-00d250e7b222",
   "metadata": {},
   "outputs": [
    {
     "name": "stdout",
     "output_type": "stream",
     "text": [
      "mass data size: 1696\n"
     ]
    }
   ],
   "source": [
    "print(f\"mass data size: {mass_train.shape[0] + mass_test.shape[0]}\")"
   ]
  },
  {
   "cell_type": "code",
   "execution_count": 69,
   "id": "2e6736e8-c6cc-4048-b217-4a45f382bf0d",
   "metadata": {},
   "outputs": [
    {
     "name": "stdout",
     "output_type": "stream",
     "text": [
      ".\\CBIS-DDSM\\Mass-Training_P_02092_LEFT_MLO_1\\07-20-2016-DDSM-NA-20213\\1.000000-cropped images-58924\n",
      ".\\CBIS-DDSM\\Mass-Training_P_02092_LEFT_MLO_1\\07-21-2016-DDSM-NA-14412\\1.000000-ROI mask images-30086\n"
     ]
    }
   ],
   "source": [
    "test = df_meta[df_meta['Subject ID']=='Mass-Training_P_02092_LEFT_MLO_1']\n",
    "for t in test['File Location']:\n",
    "    print(t)"
   ]
  },
  {
   "cell_type": "markdown",
   "id": "b4bf82b9-9df6-4790-b8eb-c6bb790434cd",
   "metadata": {},
   "source": [
    "### Update image paths"
   ]
  },
  {
   "cell_type": "code",
   "execution_count": 70,
   "id": "b7d297c6-fc62-4533-a1cd-b65c231e7d77",
   "metadata": {},
   "outputs": [],
   "source": [
    "# Make a list of the image paths\n",
    "cols = ['image file path', 'cropped image file path', 'ROI mask file path']"
   ]
  },
  {
   "cell_type": "markdown",
   "id": "203c3a0e-3f01-4a8b-ad2e-301e91edff12",
   "metadata": {},
   "source": [
    "##### Training data"
   ]
  },
  {
   "cell_type": "code",
   "execution_count": 71,
   "id": "26b4fc55-9eb2-4d92-8cbe-ed652a134c41",
   "metadata": {},
   "outputs": [],
   "source": [
    "train_data_updater = ImagePathUpdater(df_meta, mass_train, cols[0], data_root)\n",
    "train_data_updater.update()"
   ]
  },
  {
   "cell_type": "code",
   "execution_count": 72,
   "id": "a570091f-c9ac-46c3-add3-12e11c339cf6",
   "metadata": {},
   "outputs": [],
   "source": [
    "train_data_updater = ImagePathUpdater(df_meta, mass_train, cols[1], data_root)\n",
    "train_data_updater.update()"
   ]
  },
  {
   "cell_type": "code",
   "execution_count": 73,
   "id": "b7c6bf4b-0f9a-4b19-9f35-35964769f734",
   "metadata": {},
   "outputs": [],
   "source": [
    "train_data_updater = ImagePathUpdater(df_meta, mass_train, cols[2], data_root)\n",
    "train_data_updater.update()"
   ]
  },
  {
   "cell_type": "code",
   "execution_count": 74,
   "id": "208d3a1d-bc4d-443b-8529-b42a1192c217",
   "metadata": {},
   "outputs": [],
   "source": [
    "# Save the updated data\n",
    "mass_train.to_csv(new_mass_train_path, index=False)"
   ]
  },
  {
   "cell_type": "markdown",
   "id": "a92fe22c-cd64-49f9-9731-e4a6139b1dd4",
   "metadata": {},
   "source": [
    "##### Test data"
   ]
  },
  {
   "cell_type": "code",
   "execution_count": 75,
   "id": "024dda37-9714-4dbf-9189-d1fc3b2d2613",
   "metadata": {},
   "outputs": [],
   "source": [
    "test_data_updater = ImagePathUpdater(df_meta, mass_test, cols[0], data_root)\n",
    "test_data_updater.update()"
   ]
  },
  {
   "cell_type": "code",
   "execution_count": 76,
   "id": "241d5f46-2f8f-4f1c-917a-6d6ea0e8ca6b",
   "metadata": {},
   "outputs": [],
   "source": [
    "test_data_updater = ImagePathUpdater(df_meta, mass_test, cols[1], data_root)\n",
    "test_data_updater.update()"
   ]
  },
  {
   "cell_type": "code",
   "execution_count": 77,
   "id": "0422a2c1-81a6-47b6-a0ae-574b3a749f00",
   "metadata": {},
   "outputs": [],
   "source": [
    "test_data_updater = ImagePathUpdater(df_meta, mass_test, cols[2], data_root)\n",
    "test_data_updater.update()"
   ]
  },
  {
   "cell_type": "code",
   "execution_count": 78,
   "id": "4b56371d-b717-4da6-b69a-50b5fc6b3cf5",
   "metadata": {},
   "outputs": [],
   "source": [
    "# Save the updated data\n",
    "mass_test.to_csv(new_mass_test_path, index=False)"
   ]
  },
  {
   "cell_type": "markdown",
   "id": "eebf2e42-7ae6-437a-b900-9d3e0f657e84",
   "metadata": {},
   "source": [
    "### Results"
   ]
  },
  {
   "cell_type": "code",
   "execution_count": 79,
   "id": "c3714312-15d0-4c07-8c37-d1e64662f9d3",
   "metadata": {},
   "outputs": [
    {
     "data": {
      "text/plain": [
       "['pathology',\n",
       " 'image file path',\n",
       " 'cropped image file path',\n",
       " 'ROI mask file path']"
      ]
     },
     "execution_count": 79,
     "metadata": {},
     "output_type": "execute_result"
    }
   ],
   "source": [
    "rst_cols = ['pathology'] + cols\n",
    "rst_cols"
   ]
  },
  {
   "cell_type": "code",
   "execution_count": 80,
   "id": "ece95bd4-7a1b-4efa-bb0f-56f2956afe8d",
   "metadata": {},
   "outputs": [
    {
     "data": {
      "text/html": [
       "<div>\n",
       "<style scoped>\n",
       "    .dataframe tbody tr th:only-of-type {\n",
       "        vertical-align: middle;\n",
       "    }\n",
       "\n",
       "    .dataframe tbody tr th {\n",
       "        vertical-align: top;\n",
       "    }\n",
       "\n",
       "    .dataframe thead th {\n",
       "        text-align: right;\n",
       "    }\n",
       "</style>\n",
       "<table border=\"1\" class=\"dataframe\">\n",
       "  <thead>\n",
       "    <tr style=\"text-align: right;\">\n",
       "      <th></th>\n",
       "      <th>pathology</th>\n",
       "      <th>image file path</th>\n",
       "      <th>cropped image file path</th>\n",
       "      <th>ROI mask file path</th>\n",
       "    </tr>\n",
       "  </thead>\n",
       "  <tbody>\n",
       "    <tr>\n",
       "      <th>0</th>\n",
       "      <td>MALIGNANT</td>\n",
       "      <td>Mass-Training_P_00001_LEFT_CC\\07-20-2016-DDSM-NA-74994\\1.000000-full mammogram images-24515\\1-1.dcm</td>\n",
       "      <td>Mass-Training_P_00001_LEFT_CC_1\\07-21-2016-DDSM-NA-39106\\1.000000-ROI mask images-99650\\1-2.dcm</td>\n",
       "      <td>Mass-Training_P_00001_LEFT_CC_1\\07-21-2016-DDSM-NA-39106\\1.000000-ROI mask images-99650\\1-1.dcm</td>\n",
       "    </tr>\n",
       "    <tr>\n",
       "      <th>1</th>\n",
       "      <td>MALIGNANT</td>\n",
       "      <td>Mass-Training_P_00001_LEFT_MLO\\07-20-2016-DDSM-NA-90988\\1.000000-full mammogram images-80834\\1-1.dcm</td>\n",
       "      <td>Mass-Training_P_00001_LEFT_MLO_1\\07-21-2016-DDSM-NA-82526\\1.000000-ROI mask images-86053\\1-1.dcm</td>\n",
       "      <td>Mass-Training_P_00001_LEFT_MLO_1\\07-21-2016-DDSM-NA-82526\\1.000000-ROI mask images-86053\\1-2.dcm</td>\n",
       "    </tr>\n",
       "  </tbody>\n",
       "</table>\n",
       "</div>"
      ],
      "text/plain": [
       "   pathology  \\\n",
       "0  MALIGNANT   \n",
       "1  MALIGNANT   \n",
       "\n",
       "                                                                                        image file path  \\\n",
       "0   Mass-Training_P_00001_LEFT_CC\\07-20-2016-DDSM-NA-74994\\1.000000-full mammogram images-24515\\1-1.dcm   \n",
       "1  Mass-Training_P_00001_LEFT_MLO\\07-20-2016-DDSM-NA-90988\\1.000000-full mammogram images-80834\\1-1.dcm   \n",
       "\n",
       "                                                                            cropped image file path  \\\n",
       "0   Mass-Training_P_00001_LEFT_CC_1\\07-21-2016-DDSM-NA-39106\\1.000000-ROI mask images-99650\\1-2.dcm   \n",
       "1  Mass-Training_P_00001_LEFT_MLO_1\\07-21-2016-DDSM-NA-82526\\1.000000-ROI mask images-86053\\1-1.dcm   \n",
       "\n",
       "                                                                                 ROI mask file path  \n",
       "0   Mass-Training_P_00001_LEFT_CC_1\\07-21-2016-DDSM-NA-39106\\1.000000-ROI mask images-99650\\1-1.dcm  \n",
       "1  Mass-Training_P_00001_LEFT_MLO_1\\07-21-2016-DDSM-NA-82526\\1.000000-ROI mask images-86053\\1-2.dcm  "
      ]
     },
     "execution_count": 80,
     "metadata": {},
     "output_type": "execute_result"
    }
   ],
   "source": [
    "mass_train[rst_cols].head(2)"
   ]
  },
  {
   "cell_type": "code",
   "execution_count": 81,
   "id": "28cb9b45-15b2-418b-9f6c-9e2e28940e59",
   "metadata": {},
   "outputs": [
    {
     "data": {
      "text/html": [
       "<div>\n",
       "<style scoped>\n",
       "    .dataframe tbody tr th:only-of-type {\n",
       "        vertical-align: middle;\n",
       "    }\n",
       "\n",
       "    .dataframe tbody tr th {\n",
       "        vertical-align: top;\n",
       "    }\n",
       "\n",
       "    .dataframe thead th {\n",
       "        text-align: right;\n",
       "    }\n",
       "</style>\n",
       "<table border=\"1\" class=\"dataframe\">\n",
       "  <thead>\n",
       "    <tr style=\"text-align: right;\">\n",
       "      <th></th>\n",
       "      <th>pathology</th>\n",
       "      <th>image file path</th>\n",
       "      <th>cropped image file path</th>\n",
       "      <th>ROI mask file path</th>\n",
       "    </tr>\n",
       "  </thead>\n",
       "  <tbody>\n",
       "    <tr>\n",
       "      <th>1316</th>\n",
       "      <td>MALIGNANT</td>\n",
       "      <td>Mass-Training_P_02092_LEFT_CC\\07-20-2016-DDSM-NA-80250\\1.000000-full mammogram images-67422\\1-1.dcm</td>\n",
       "      <td>Mass-Training_P_02092_LEFT_CC_1\\07-20-2016-DDSM-NA-75288\\1.000000-cropped images-03171\\1-1.dcm</td>\n",
       "      <td>Mass-Training_P_02092_LEFT_CC_1\\07-21-2016-DDSM-NA-18548\\1.000000-ROI mask images-89402\\1-1.dcm</td>\n",
       "    </tr>\n",
       "    <tr>\n",
       "      <th>1317</th>\n",
       "      <td>MALIGNANT</td>\n",
       "      <td>Mass-Training_P_02092_LEFT_MLO\\07-20-2016-DDSM-NA-65216\\1.000000-full mammogram images-91615\\1-1.dcm</td>\n",
       "      <td>Mass-Training_P_02092_LEFT_MLO_1\\07-20-2016-DDSM-NA-20213\\1.000000-cropped images-58924\\1-1.dcm</td>\n",
       "      <td>Mass-Training_P_02092_LEFT_MLO_1\\07-21-2016-DDSM-NA-14412\\1.000000-ROI mask images-30086\\1-1.dcm</td>\n",
       "    </tr>\n",
       "  </tbody>\n",
       "</table>\n",
       "</div>"
      ],
      "text/plain": [
       "      pathology  \\\n",
       "1316  MALIGNANT   \n",
       "1317  MALIGNANT   \n",
       "\n",
       "                                                                                           image file path  \\\n",
       "1316   Mass-Training_P_02092_LEFT_CC\\07-20-2016-DDSM-NA-80250\\1.000000-full mammogram images-67422\\1-1.dcm   \n",
       "1317  Mass-Training_P_02092_LEFT_MLO\\07-20-2016-DDSM-NA-65216\\1.000000-full mammogram images-91615\\1-1.dcm   \n",
       "\n",
       "                                                                              cropped image file path  \\\n",
       "1316   Mass-Training_P_02092_LEFT_CC_1\\07-20-2016-DDSM-NA-75288\\1.000000-cropped images-03171\\1-1.dcm   \n",
       "1317  Mass-Training_P_02092_LEFT_MLO_1\\07-20-2016-DDSM-NA-20213\\1.000000-cropped images-58924\\1-1.dcm   \n",
       "\n",
       "                                                                                    ROI mask file path  \n",
       "1316   Mass-Training_P_02092_LEFT_CC_1\\07-21-2016-DDSM-NA-18548\\1.000000-ROI mask images-89402\\1-1.dcm  \n",
       "1317  Mass-Training_P_02092_LEFT_MLO_1\\07-21-2016-DDSM-NA-14412\\1.000000-ROI mask images-30086\\1-1.dcm  "
      ]
     },
     "execution_count": 81,
     "metadata": {},
     "output_type": "execute_result"
    }
   ],
   "source": [
    "mass_train[rst_cols].tail(2)"
   ]
  },
  {
   "cell_type": "code",
   "execution_count": 82,
   "id": "c75ad08f-967b-4f6c-87cf-6d490b3b2726",
   "metadata": {},
   "outputs": [
    {
     "data": {
      "text/html": [
       "<div>\n",
       "<style scoped>\n",
       "    .dataframe tbody tr th:only-of-type {\n",
       "        vertical-align: middle;\n",
       "    }\n",
       "\n",
       "    .dataframe tbody tr th {\n",
       "        vertical-align: top;\n",
       "    }\n",
       "\n",
       "    .dataframe thead th {\n",
       "        text-align: right;\n",
       "    }\n",
       "</style>\n",
       "<table border=\"1\" class=\"dataframe\">\n",
       "  <thead>\n",
       "    <tr style=\"text-align: right;\">\n",
       "      <th></th>\n",
       "      <th>image file path</th>\n",
       "      <th>cropped image file path</th>\n",
       "      <th>ROI mask file path</th>\n",
       "    </tr>\n",
       "  </thead>\n",
       "  <tbody>\n",
       "    <tr>\n",
       "      <th>0</th>\n",
       "      <td>Mass-Test_P_00016_LEFT_CC\\10-04-2016-DDSM-NA-30104\\1.000000-full mammogram images-14172\\1-1.dcm</td>\n",
       "      <td>Mass-Test_P_00016_LEFT_CC_1\\10-04-2016-DDSM-NA-09887\\1.000000-cropped images-26184\\1-2.dcm</td>\n",
       "      <td>Mass-Test_P_00016_LEFT_CC_1\\10-04-2016-DDSM-NA-09887\\1.000000-cropped images-26184\\1-1.dcm</td>\n",
       "    </tr>\n",
       "    <tr>\n",
       "      <th>1</th>\n",
       "      <td>Mass-Test_P_00016_LEFT_MLO\\10-04-2016-DDSM-NA-54392\\1.000000-full mammogram images-35518\\1-1.dcm</td>\n",
       "      <td>Mass-Test_P_00016_LEFT_MLO_1\\10-04-2016-DDSM-NA-15563\\1.000000-cropped images-77287\\1-2.dcm</td>\n",
       "      <td>Mass-Test_P_00016_LEFT_MLO_1\\10-04-2016-DDSM-NA-15563\\1.000000-cropped images-77287\\1-1.dcm</td>\n",
       "    </tr>\n",
       "  </tbody>\n",
       "</table>\n",
       "</div>"
      ],
      "text/plain": [
       "                                                                                    image file path  \\\n",
       "0   Mass-Test_P_00016_LEFT_CC\\10-04-2016-DDSM-NA-30104\\1.000000-full mammogram images-14172\\1-1.dcm   \n",
       "1  Mass-Test_P_00016_LEFT_MLO\\10-04-2016-DDSM-NA-54392\\1.000000-full mammogram images-35518\\1-1.dcm   \n",
       "\n",
       "                                                                       cropped image file path  \\\n",
       "0   Mass-Test_P_00016_LEFT_CC_1\\10-04-2016-DDSM-NA-09887\\1.000000-cropped images-26184\\1-2.dcm   \n",
       "1  Mass-Test_P_00016_LEFT_MLO_1\\10-04-2016-DDSM-NA-15563\\1.000000-cropped images-77287\\1-2.dcm   \n",
       "\n",
       "                                                                            ROI mask file path  \n",
       "0   Mass-Test_P_00016_LEFT_CC_1\\10-04-2016-DDSM-NA-09887\\1.000000-cropped images-26184\\1-1.dcm  \n",
       "1  Mass-Test_P_00016_LEFT_MLO_1\\10-04-2016-DDSM-NA-15563\\1.000000-cropped images-77287\\1-1.dcm  "
      ]
     },
     "execution_count": 82,
     "metadata": {},
     "output_type": "execute_result"
    }
   ],
   "source": [
    "mass_test[cols].head(2)"
   ]
  },
  {
   "cell_type": "code",
   "execution_count": 83,
   "id": "d74cc70d-af68-4e98-93f4-26be0db86529",
   "metadata": {},
   "outputs": [
    {
     "data": {
      "text/html": [
       "<div>\n",
       "<style scoped>\n",
       "    .dataframe tbody tr th:only-of-type {\n",
       "        vertical-align: middle;\n",
       "    }\n",
       "\n",
       "    .dataframe tbody tr th {\n",
       "        vertical-align: top;\n",
       "    }\n",
       "\n",
       "    .dataframe thead th {\n",
       "        text-align: right;\n",
       "    }\n",
       "</style>\n",
       "<table border=\"1\" class=\"dataframe\">\n",
       "  <thead>\n",
       "    <tr style=\"text-align: right;\">\n",
       "      <th></th>\n",
       "      <th>image file path</th>\n",
       "      <th>cropped image file path</th>\n",
       "      <th>ROI mask file path</th>\n",
       "    </tr>\n",
       "  </thead>\n",
       "  <tbody>\n",
       "    <tr>\n",
       "      <th>376</th>\n",
       "      <td>Mass-Test_P_01912_RIGHT_CC\\10-04-2016-DDSM-NA-59644\\1.000000-full mammogram images-23281\\1-1.dcm</td>\n",
       "      <td>Mass-Test_P_01912_RIGHT_CC_1\\10-04-2016-DDSM-NA-61275\\1.000000-ROI mask images-45359\\1-1.dcm</td>\n",
       "      <td>Mass-Test_P_01912_RIGHT_CC_1\\10-04-2016-DDSM-NA-61275\\1.000000-ROI mask images-45359\\1-2.dcm</td>\n",
       "    </tr>\n",
       "    <tr>\n",
       "      <th>377</th>\n",
       "      <td>Mass-Test_P_01912_RIGHT_MLO\\10-04-2016-DDSM-NA-46673\\1.000000-full mammogram images-74983\\1-1.dcm</td>\n",
       "      <td>Mass-Test_P_01912_RIGHT_MLO_1\\10-04-2016-DDSM-NA-41042\\1.000000-ROI mask images-74314\\1-1.dcm</td>\n",
       "      <td>Mass-Test_P_01912_RIGHT_MLO_1\\10-04-2016-DDSM-NA-41042\\1.000000-ROI mask images-74314\\1-2.dcm</td>\n",
       "    </tr>\n",
       "  </tbody>\n",
       "</table>\n",
       "</div>"
      ],
      "text/plain": [
       "                                                                                       image file path  \\\n",
       "376   Mass-Test_P_01912_RIGHT_CC\\10-04-2016-DDSM-NA-59644\\1.000000-full mammogram images-23281\\1-1.dcm   \n",
       "377  Mass-Test_P_01912_RIGHT_MLO\\10-04-2016-DDSM-NA-46673\\1.000000-full mammogram images-74983\\1-1.dcm   \n",
       "\n",
       "                                                                           cropped image file path  \\\n",
       "376   Mass-Test_P_01912_RIGHT_CC_1\\10-04-2016-DDSM-NA-61275\\1.000000-ROI mask images-45359\\1-1.dcm   \n",
       "377  Mass-Test_P_01912_RIGHT_MLO_1\\10-04-2016-DDSM-NA-41042\\1.000000-ROI mask images-74314\\1-1.dcm   \n",
       "\n",
       "                                                                                ROI mask file path  \n",
       "376   Mass-Test_P_01912_RIGHT_CC_1\\10-04-2016-DDSM-NA-61275\\1.000000-ROI mask images-45359\\1-2.dcm  \n",
       "377  Mass-Test_P_01912_RIGHT_MLO_1\\10-04-2016-DDSM-NA-41042\\1.000000-ROI mask images-74314\\1-2.dcm  "
      ]
     },
     "execution_count": 83,
     "metadata": {},
     "output_type": "execute_result"
    }
   ],
   "source": [
    "mass_test[cols].tail(2)"
   ]
  },
  {
   "cell_type": "markdown",
   "id": "a5863528-f087-4481-b301-ad4c3689e815",
   "metadata": {},
   "source": [
    "### Evaluation"
   ]
  },
  {
   "cell_type": "code",
   "execution_count": 85,
   "id": "6b16613d-cce8-469d-9e1a-e187d1742232",
   "metadata": {},
   "outputs": [],
   "source": [
    "# Load mass datasets again\n",
    "unchanged_mass_train = pd.read_csv(mass_train_path)\n",
    "unchanged_mass_test = pd.read_csv(mass_test_path)"
   ]
  },
  {
   "cell_type": "code",
   "execution_count": 96,
   "id": "ae3ce32f-b128-4aaa-af20-38ecfcb5489a",
   "metadata": {},
   "outputs": [
    {
     "data": {
      "text/html": [
       "<div>\n",
       "<style scoped>\n",
       "    .dataframe tbody tr th:only-of-type {\n",
       "        vertical-align: middle;\n",
       "    }\n",
       "\n",
       "    .dataframe tbody tr th {\n",
       "        vertical-align: top;\n",
       "    }\n",
       "\n",
       "    .dataframe thead th {\n",
       "        text-align: right;\n",
       "    }\n",
       "</style>\n",
       "<table border=\"1\" class=\"dataframe\">\n",
       "  <thead>\n",
       "    <tr style=\"text-align: right;\">\n",
       "      <th></th>\n",
       "      <th>pathology</th>\n",
       "      <th>image file path</th>\n",
       "      <th>cropped image file path</th>\n",
       "      <th>ROI mask file path</th>\n",
       "    </tr>\n",
       "  </thead>\n",
       "  <tbody>\n",
       "    <tr>\n",
       "      <th>0</th>\n",
       "      <td>MALIGNANT</td>\n",
       "      <td>Mass-Training_P_00001_LEFT_CC/1.3.6.1.4.1.9590.100.1.2.422112722213189649807611434612228974994/1.3.6.1.4.1.9590.100.1.2.342386194811267636608694132590482924515/000000.dcm</td>\n",
       "      <td>Mass-Training_P_00001_LEFT_CC_1/1.3.6.1.4.1.9590.100.1.2.108268213011361124203859148071588939106/1.3.6.1.4.1.9590.100.1.2.296736403313792599626368780122205399650/000000.dcm</td>\n",
       "      <td>Mass-Training_P_00001_LEFT_CC_1/1.3.6.1.4.1.9590.100.1.2.108268213011361124203859148071588939106/1.3.6.1.4.1.9590.100.1.2.296736403313792599626368780122205399650/000001.dcm\\n</td>\n",
       "    </tr>\n",
       "  </tbody>\n",
       "</table>\n",
       "</div>"
      ],
      "text/plain": [
       "   pathology  \\\n",
       "0  MALIGNANT   \n",
       "\n",
       "                                                                                                                                                              image file path  \\\n",
       "0  Mass-Training_P_00001_LEFT_CC/1.3.6.1.4.1.9590.100.1.2.422112722213189649807611434612228974994/1.3.6.1.4.1.9590.100.1.2.342386194811267636608694132590482924515/000000.dcm   \n",
       "\n",
       "                                                                                                                                                        cropped image file path  \\\n",
       "0  Mass-Training_P_00001_LEFT_CC_1/1.3.6.1.4.1.9590.100.1.2.108268213011361124203859148071588939106/1.3.6.1.4.1.9590.100.1.2.296736403313792599626368780122205399650/000000.dcm   \n",
       "\n",
       "                                                                                                                                                               ROI mask file path  \n",
       "0  Mass-Training_P_00001_LEFT_CC_1/1.3.6.1.4.1.9590.100.1.2.108268213011361124203859148071588939106/1.3.6.1.4.1.9590.100.1.2.296736403313792599626368780122205399650/000001.dcm\\n  "
      ]
     },
     "execution_count": 96,
     "metadata": {},
     "output_type": "execute_result"
    }
   ],
   "source": [
    "unchanged_mass_train[rst_cols].head(1)"
   ]
  },
  {
   "cell_type": "code",
   "execution_count": 97,
   "id": "dbe406a7-a4eb-4f3f-ab63-87f9f6eb0d2c",
   "metadata": {},
   "outputs": [
    {
     "data": {
      "text/html": [
       "<div>\n",
       "<style scoped>\n",
       "    .dataframe tbody tr th:only-of-type {\n",
       "        vertical-align: middle;\n",
       "    }\n",
       "\n",
       "    .dataframe tbody tr th {\n",
       "        vertical-align: top;\n",
       "    }\n",
       "\n",
       "    .dataframe thead th {\n",
       "        text-align: right;\n",
       "    }\n",
       "</style>\n",
       "<table border=\"1\" class=\"dataframe\">\n",
       "  <thead>\n",
       "    <tr style=\"text-align: right;\">\n",
       "      <th></th>\n",
       "      <th>pathology</th>\n",
       "      <th>image file path</th>\n",
       "      <th>cropped image file path</th>\n",
       "      <th>ROI mask file path</th>\n",
       "    </tr>\n",
       "  </thead>\n",
       "  <tbody>\n",
       "    <tr>\n",
       "      <th>0</th>\n",
       "      <td>MALIGNANT</td>\n",
       "      <td>Mass-Test_P_00016_LEFT_CC/1.3.6.1.4.1.9590.100.1.2.416403281812750683720028031170500130104/1.3.6.1.4.1.9590.100.1.2.245063149211255120613007755642780114172/000000.dcm</td>\n",
       "      <td>Mass-Test_P_00016_LEFT_CC_1/1.3.6.1.4.1.9590.100.1.2.259596319110047779433501728143778409887/1.3.6.1.4.1.9590.100.1.2.30820586311062570442302321942433426184/000000.dcm</td>\n",
       "      <td>Mass-Test_P_00016_LEFT_CC_1/1.3.6.1.4.1.9590.100.1.2.259596319110047779433501728143778409887/1.3.6.1.4.1.9590.100.1.2.30820586311062570442302321942433426184/000001.dcm\\n</td>\n",
       "    </tr>\n",
       "  </tbody>\n",
       "</table>\n",
       "</div>"
      ],
      "text/plain": [
       "   pathology  \\\n",
       "0  MALIGNANT   \n",
       "\n",
       "                                                                                                                                                          image file path  \\\n",
       "0  Mass-Test_P_00016_LEFT_CC/1.3.6.1.4.1.9590.100.1.2.416403281812750683720028031170500130104/1.3.6.1.4.1.9590.100.1.2.245063149211255120613007755642780114172/000000.dcm   \n",
       "\n",
       "                                                                                                                                                   cropped image file path  \\\n",
       "0  Mass-Test_P_00016_LEFT_CC_1/1.3.6.1.4.1.9590.100.1.2.259596319110047779433501728143778409887/1.3.6.1.4.1.9590.100.1.2.30820586311062570442302321942433426184/000000.dcm   \n",
       "\n",
       "                                                                                                                                                          ROI mask file path  \n",
       "0  Mass-Test_P_00016_LEFT_CC_1/1.3.6.1.4.1.9590.100.1.2.259596319110047779433501728143778409887/1.3.6.1.4.1.9590.100.1.2.30820586311062570442302321942433426184/000001.dcm\\n  "
      ]
     },
     "execution_count": 97,
     "metadata": {},
     "output_type": "execute_result"
    }
   ],
   "source": [
    "unchanged_mass_test[rst_cols].head(1)"
   ]
  },
  {
   "cell_type": "code",
   "execution_count": 103,
   "id": "f259defa-365f-44ae-9f4a-3e1093481cec",
   "metadata": {},
   "outputs": [
    {
     "name": "stdout",
     "output_type": "stream",
     "text": [
      "columns: ['patient_id', 'breast_density', 'left or right breast', 'image view', 'abnormality id', 'abnormality type', 'mass shape', 'mass margins', 'assessment', 'pathology', 'subtlety', 'image file path', 'cropped image file path', 'ROI mask file path'] (size: 14)\n"
     ]
    }
   ],
   "source": [
    "all_cols = list(unchanged_mass_train.columns)\n",
    "print(f\"columns: {all_cols} (size: {len(all_cols)})\")"
   ]
  },
  {
   "cell_type": "code",
   "execution_count": 107,
   "id": "dc1e6bcd-75ce-490c-a23e-251611835862",
   "metadata": {},
   "outputs": [
    {
     "name": "stdout",
     "output_type": "stream",
     "text": [
      "columns without paths: ['patient_id', 'breast_density', 'left or right breast', 'image view', 'abnormality id', 'abnormality type', 'mass shape', 'mass margins', 'assessment', 'pathology', 'subtlety'] (size: 11)\n"
     ]
    }
   ],
   "source": [
    "sliced_cols = list(unchanged_mass_train.columns)[:-3]\n",
    "print(f\"columns without paths: {sliced_cols} (size: {len(sliced_cols)})\")"
   ]
  },
  {
   "cell_type": "markdown",
   "id": "0a15325f-fefa-4775-8b7c-c68c1eaeefea",
   "metadata": {},
   "source": [
    "##### Compare values column-wise between datasets"
   ]
  },
  {
   "cell_type": "code",
   "execution_count": 109,
   "id": "b6fb382a-ff3a-41b9-8e39-ed57ad0416ec",
   "metadata": {},
   "outputs": [
    {
     "data": {
      "text/html": [
       "<div>\n",
       "<style scoped>\n",
       "    .dataframe tbody tr th:only-of-type {\n",
       "        vertical-align: middle;\n",
       "    }\n",
       "\n",
       "    .dataframe tbody tr th {\n",
       "        vertical-align: top;\n",
       "    }\n",
       "\n",
       "    .dataframe thead th {\n",
       "        text-align: right;\n",
       "    }\n",
       "</style>\n",
       "<table border=\"1\" class=\"dataframe\">\n",
       "  <thead>\n",
       "    <tr style=\"text-align: right;\">\n",
       "      <th></th>\n",
       "      <th>index_x</th>\n",
       "      <th>patient_id</th>\n",
       "      <th>breast_density</th>\n",
       "      <th>left or right breast</th>\n",
       "      <th>image view</th>\n",
       "      <th>abnormality id</th>\n",
       "      <th>abnormality type</th>\n",
       "      <th>mass shape</th>\n",
       "      <th>mass margins</th>\n",
       "      <th>assessment</th>\n",
       "      <th>pathology</th>\n",
       "      <th>subtlety</th>\n",
       "      <th>image file path_x</th>\n",
       "      <th>cropped image file path_x</th>\n",
       "      <th>ROI mask file path_x</th>\n",
       "      <th>index_y</th>\n",
       "      <th>image file path_y</th>\n",
       "      <th>cropped image file path_y</th>\n",
       "      <th>ROI mask file path_y</th>\n",
       "    </tr>\n",
       "  </thead>\n",
       "  <tbody>\n",
       "    <tr>\n",
       "      <th>0</th>\n",
       "      <td>0</td>\n",
       "      <td>P_00001</td>\n",
       "      <td>3</td>\n",
       "      <td>LEFT</td>\n",
       "      <td>CC</td>\n",
       "      <td>1</td>\n",
       "      <td>mass</td>\n",
       "      <td>IRREGULAR-ARCHITECTURAL_DISTORTION</td>\n",
       "      <td>SPICULATED</td>\n",
       "      <td>4</td>\n",
       "      <td>MALIGNANT</td>\n",
       "      <td>4</td>\n",
       "      <td>Mass-Training_P_00001_LEFT_CC/1.3.6.1.4.1.9590.100.1.2.422112722213189649807611434612228974994/1.3.6.1.4.1.9590.100.1.2.342386194811267636608694132590482924515/000000.dcm</td>\n",
       "      <td>Mass-Training_P_00001_LEFT_CC_1/1.3.6.1.4.1.9590.100.1.2.108268213011361124203859148071588939106/1.3.6.1.4.1.9590.100.1.2.296736403313792599626368780122205399650/000000.dcm</td>\n",
       "      <td>Mass-Training_P_00001_LEFT_CC_1/1.3.6.1.4.1.9590.100.1.2.108268213011361124203859148071588939106/1.3.6.1.4.1.9590.100.1.2.296736403313792599626368780122205399650/000001.dcm\\n</td>\n",
       "      <td>0</td>\n",
       "      <td>Mass-Training_P_00001_LEFT_CC\\07-20-2016-DDSM-NA-74994\\1.000000-full mammogram images-24515\\1-1.dcm</td>\n",
       "      <td>Mass-Training_P_00001_LEFT_CC_1\\07-21-2016-DDSM-NA-39106\\1.000000-ROI mask images-99650\\1-2.dcm</td>\n",
       "      <td>Mass-Training_P_00001_LEFT_CC_1\\07-21-2016-DDSM-NA-39106\\1.000000-ROI mask images-99650\\1-1.dcm</td>\n",
       "    </tr>\n",
       "    <tr>\n",
       "      <th>1</th>\n",
       "      <td>1</td>\n",
       "      <td>P_00001</td>\n",
       "      <td>3</td>\n",
       "      <td>LEFT</td>\n",
       "      <td>MLO</td>\n",
       "      <td>1</td>\n",
       "      <td>mass</td>\n",
       "      <td>IRREGULAR-ARCHITECTURAL_DISTORTION</td>\n",
       "      <td>SPICULATED</td>\n",
       "      <td>4</td>\n",
       "      <td>MALIGNANT</td>\n",
       "      <td>4</td>\n",
       "      <td>Mass-Training_P_00001_LEFT_MLO/1.3.6.1.4.1.9590.100.1.2.319478999311971442426185353560182990988/1.3.6.1.4.1.9590.100.1.2.359308329312397897125630708681441180834/000000.dcm</td>\n",
       "      <td>Mass-Training_P_00001_LEFT_MLO_1/1.3.6.1.4.1.9590.100.1.2.188473874511440575807446266233629582526/1.3.6.1.4.1.9590.100.1.2.227955274711225756835838775062793186053/000000.dcm</td>\n",
       "      <td>Mass-Training_P_00001_LEFT_MLO_1/1.3.6.1.4.1.9590.100.1.2.188473874511440575807446266233629582526/1.3.6.1.4.1.9590.100.1.2.227955274711225756835838775062793186053/000001.dcm\\n</td>\n",
       "      <td>1</td>\n",
       "      <td>Mass-Training_P_00001_LEFT_MLO\\07-20-2016-DDSM-NA-90988\\1.000000-full mammogram images-80834\\1-1.dcm</td>\n",
       "      <td>Mass-Training_P_00001_LEFT_MLO_1\\07-21-2016-DDSM-NA-82526\\1.000000-ROI mask images-86053\\1-1.dcm</td>\n",
       "      <td>Mass-Training_P_00001_LEFT_MLO_1\\07-21-2016-DDSM-NA-82526\\1.000000-ROI mask images-86053\\1-2.dcm</td>\n",
       "    </tr>\n",
       "    <tr>\n",
       "      <th>2</th>\n",
       "      <td>2</td>\n",
       "      <td>P_00004</td>\n",
       "      <td>3</td>\n",
       "      <td>LEFT</td>\n",
       "      <td>CC</td>\n",
       "      <td>1</td>\n",
       "      <td>mass</td>\n",
       "      <td>ARCHITECTURAL_DISTORTION</td>\n",
       "      <td>ILL_DEFINED</td>\n",
       "      <td>4</td>\n",
       "      <td>BENIGN</td>\n",
       "      <td>3</td>\n",
       "      <td>Mass-Training_P_00004_LEFT_CC/1.3.6.1.4.1.9590.100.1.2.347107867812656628709864319310977895697/1.3.6.1.4.1.9590.100.1.2.89180046211022531834352631483669346540/000000.dcm</td>\n",
       "      <td>Mass-Training_P_00004_LEFT_CC_1/1.3.6.1.4.1.9590.100.1.2.414182170112396175925115449620455230167/1.3.6.1.4.1.9590.100.1.2.429120414011832984817094399141838850375/000000.dcm</td>\n",
       "      <td>Mass-Training_P_00004_LEFT_CC_1/1.3.6.1.4.1.9590.100.1.2.414182170112396175925115449620455230167/1.3.6.1.4.1.9590.100.1.2.429120414011832984817094399141838850375/000001.dcm\\n</td>\n",
       "      <td>2</td>\n",
       "      <td>Mass-Training_P_00004_LEFT_CC\\07-20-2016-DDSM-NA-95697\\1.000000-full mammogram images-46540\\1-1.dcm</td>\n",
       "      <td>Mass-Training_P_00004_LEFT_CC_1\\07-21-2016-DDSM-NA-30167\\1.000000-ROI mask images-50375\\1-2.dcm</td>\n",
       "      <td>Mass-Training_P_00004_LEFT_CC_1\\07-21-2016-DDSM-NA-30167\\1.000000-ROI mask images-50375\\1-1.dcm</td>\n",
       "    </tr>\n",
       "  </tbody>\n",
       "</table>\n",
       "</div>"
      ],
      "text/plain": [
       "   index_x patient_id  breast_density left or right breast image view  \\\n",
       "0        0    P_00001               3                 LEFT         CC   \n",
       "1        1    P_00001               3                 LEFT        MLO   \n",
       "2        2    P_00004               3                 LEFT         CC   \n",
       "\n",
       "   abnormality id abnormality type                          mass shape  \\\n",
       "0               1             mass  IRREGULAR-ARCHITECTURAL_DISTORTION   \n",
       "1               1             mass  IRREGULAR-ARCHITECTURAL_DISTORTION   \n",
       "2               1             mass            ARCHITECTURAL_DISTORTION   \n",
       "\n",
       "  mass margins  assessment  pathology  subtlety  \\\n",
       "0   SPICULATED           4  MALIGNANT         4   \n",
       "1   SPICULATED           4  MALIGNANT         4   \n",
       "2  ILL_DEFINED           4     BENIGN         3   \n",
       "\n",
       "                                                                                                                                                             image file path_x  \\\n",
       "0   Mass-Training_P_00001_LEFT_CC/1.3.6.1.4.1.9590.100.1.2.422112722213189649807611434612228974994/1.3.6.1.4.1.9590.100.1.2.342386194811267636608694132590482924515/000000.dcm   \n",
       "1  Mass-Training_P_00001_LEFT_MLO/1.3.6.1.4.1.9590.100.1.2.319478999311971442426185353560182990988/1.3.6.1.4.1.9590.100.1.2.359308329312397897125630708681441180834/000000.dcm   \n",
       "2    Mass-Training_P_00004_LEFT_CC/1.3.6.1.4.1.9590.100.1.2.347107867812656628709864319310977895697/1.3.6.1.4.1.9590.100.1.2.89180046211022531834352631483669346540/000000.dcm   \n",
       "\n",
       "                                                                                                                                                       cropped image file path_x  \\\n",
       "0   Mass-Training_P_00001_LEFT_CC_1/1.3.6.1.4.1.9590.100.1.2.108268213011361124203859148071588939106/1.3.6.1.4.1.9590.100.1.2.296736403313792599626368780122205399650/000000.dcm   \n",
       "1  Mass-Training_P_00001_LEFT_MLO_1/1.3.6.1.4.1.9590.100.1.2.188473874511440575807446266233629582526/1.3.6.1.4.1.9590.100.1.2.227955274711225756835838775062793186053/000000.dcm   \n",
       "2   Mass-Training_P_00004_LEFT_CC_1/1.3.6.1.4.1.9590.100.1.2.414182170112396175925115449620455230167/1.3.6.1.4.1.9590.100.1.2.429120414011832984817094399141838850375/000000.dcm   \n",
       "\n",
       "                                                                                                                                                              ROI mask file path_x  \\\n",
       "0   Mass-Training_P_00001_LEFT_CC_1/1.3.6.1.4.1.9590.100.1.2.108268213011361124203859148071588939106/1.3.6.1.4.1.9590.100.1.2.296736403313792599626368780122205399650/000001.dcm\\n   \n",
       "1  Mass-Training_P_00001_LEFT_MLO_1/1.3.6.1.4.1.9590.100.1.2.188473874511440575807446266233629582526/1.3.6.1.4.1.9590.100.1.2.227955274711225756835838775062793186053/000001.dcm\\n   \n",
       "2   Mass-Training_P_00004_LEFT_CC_1/1.3.6.1.4.1.9590.100.1.2.414182170112396175925115449620455230167/1.3.6.1.4.1.9590.100.1.2.429120414011832984817094399141838850375/000001.dcm\\n   \n",
       "\n",
       "   index_y  \\\n",
       "0        0   \n",
       "1        1   \n",
       "2        2   \n",
       "\n",
       "                                                                                      image file path_y  \\\n",
       "0   Mass-Training_P_00001_LEFT_CC\\07-20-2016-DDSM-NA-74994\\1.000000-full mammogram images-24515\\1-1.dcm   \n",
       "1  Mass-Training_P_00001_LEFT_MLO\\07-20-2016-DDSM-NA-90988\\1.000000-full mammogram images-80834\\1-1.dcm   \n",
       "2   Mass-Training_P_00004_LEFT_CC\\07-20-2016-DDSM-NA-95697\\1.000000-full mammogram images-46540\\1-1.dcm   \n",
       "\n",
       "                                                                          cropped image file path_y  \\\n",
       "0   Mass-Training_P_00001_LEFT_CC_1\\07-21-2016-DDSM-NA-39106\\1.000000-ROI mask images-99650\\1-2.dcm   \n",
       "1  Mass-Training_P_00001_LEFT_MLO_1\\07-21-2016-DDSM-NA-82526\\1.000000-ROI mask images-86053\\1-1.dcm   \n",
       "2   Mass-Training_P_00004_LEFT_CC_1\\07-21-2016-DDSM-NA-30167\\1.000000-ROI mask images-50375\\1-2.dcm   \n",
       "\n",
       "                                                                               ROI mask file path_y  \n",
       "0   Mass-Training_P_00001_LEFT_CC_1\\07-21-2016-DDSM-NA-39106\\1.000000-ROI mask images-99650\\1-1.dcm  \n",
       "1  Mass-Training_P_00001_LEFT_MLO_1\\07-21-2016-DDSM-NA-82526\\1.000000-ROI mask images-86053\\1-2.dcm  \n",
       "2   Mass-Training_P_00004_LEFT_CC_1\\07-21-2016-DDSM-NA-30167\\1.000000-ROI mask images-50375\\1-1.dcm  "
      ]
     },
     "execution_count": 109,
     "metadata": {},
     "output_type": "execute_result"
    }
   ],
   "source": [
    "# Training data\n",
    "df_train = pd.merge(\n",
    "    unchanged_mass_train.reset_index(), mass_train.reset_index(),\n",
    "    how='outer', on=sliced_cols)\n",
    "df_train.head(3)"
   ]
  },
  {
   "cell_type": "code",
   "execution_count": 133,
   "id": "d13d1ba8-e05b-412e-b72a-e10ea84c5835",
   "metadata": {},
   "outputs": [],
   "source": [
    "# Compare two related columns\n",
    "# The values in each column don't have to match exactly\n",
    "df_train['image result'] = np.where(\n",
    "    (df_train['image file path_x']==df_train['image file path_y']),\n",
    "    True, False)"
   ]
  },
  {
   "cell_type": "code",
   "execution_count": 134,
   "id": "11adf040-76c5-4080-9679-75ab18a6bfcf",
   "metadata": {},
   "outputs": [
    {
     "name": "stdout",
     "output_type": "stream",
     "text": [
      "[ TEST PASS ] All image file paths were successfully updated\n"
     ]
    }
   ],
   "source": [
    "if False in list(df_train['image result'].unique()):\n",
    "    print(f\"[ TEST PASS ] All image file paths were successfully updated\")\n",
    "else:\n",
    "    print(f\"[ TEST FAIL ] Some image file paths do not match between the original and updated datasets\")"
   ]
  },
  {
   "cell_type": "code",
   "execution_count": 135,
   "id": "b1c53724-3df9-4523-8e89-f9d9023f0353",
   "metadata": {},
   "outputs": [],
   "source": [
    "# Compare two related columns\n",
    "# The values in each column don't have to match exactly\n",
    "df_train['cropped image result'] = np.where(\n",
    "    (df_train['cropped image file path_x']==df_train['cropped image file path_y']),\n",
    "    True, False)"
   ]
  },
  {
   "cell_type": "code",
   "execution_count": 136,
   "id": "147bcedb-6d2a-44b3-a1cf-1e13dcb0c152",
   "metadata": {},
   "outputs": [
    {
     "name": "stdout",
     "output_type": "stream",
     "text": [
      "[ TEST PASS ] All cropped image file paths were successfully updated\n"
     ]
    }
   ],
   "source": [
    "if False in list(df_train['cropped image result'].unique()):\n",
    "    print(f\"[ TEST PASS ] All cropped image file paths were successfully updated\")\n",
    "else:\n",
    "    print(f\"[ TEST FAIL ] Some cropped image file paths do not match between the original and updated datasets\")"
   ]
  },
  {
   "cell_type": "code",
   "execution_count": 138,
   "id": "0cd82c59-434f-47e0-9587-1df78adceaef",
   "metadata": {},
   "outputs": [],
   "source": [
    "# Compare two related columns\n",
    "# The values in each column don't have to match exactly\n",
    "df_train['ROI mask result'] = np.where(\n",
    "    (df_train['ROI mask file path_x']==df_train['ROI mask file path_y']),\n",
    "    True, False)"
   ]
  },
  {
   "cell_type": "code",
   "execution_count": 139,
   "id": "856b15d1-88f3-4c4c-98da-fdad6c0ba7f3",
   "metadata": {},
   "outputs": [
    {
     "name": "stdout",
     "output_type": "stream",
     "text": [
      "[ TEST PASS ] All ROI mask file paths were successfully updated\n"
     ]
    }
   ],
   "source": [
    "if False in list(df_train['ROI mask result'].unique()):\n",
    "    print(f\"[ TEST PASS ] All ROI mask file paths were successfully updated\")\n",
    "else:\n",
    "    print(f\"[ TEST FAIL ] Some ROI mask file paths do not match between the original and updated datasets\")"
   ]
  },
  {
   "cell_type": "markdown",
   "id": "3bc4f15c-733d-4215-a9d0-f2209bf22269",
   "metadata": {},
   "source": [
    "### Summary"
   ]
  },
  {
   "cell_type": "markdown",
   "id": "8f183886-9abb-4f98-a171-b0af35ffff7d",
   "metadata": {},
   "source": [
    "The CBIS-DDSM dataset includes a Series Description column that indicates the image type, such as 'full mammogram images', 'ROI mask images', or 'cropped images'. However, some of these descriptions are incorrect. In particular, ROI mask images and cropped images are stored in the same folder, but their Series Descriptions are inconsistently labelled as either 'ROI mask images' or 'cropped images'. Each image should be accurately labelled, as this information is crucial for proper dataset preparation and effective model training.\n",
    "\n",
    "To address this issue, a simple rule was used to distinguish between the two image types: ROI mask images contain only pixel values of 0 and 255 (i.e., black and white), whereas cropped images contain a wider range of values. This characteristic allows for reliable reclassification. Preliminary tests with a sample set of images confirmed that this method successfully corrects the labels.\n",
    "\n",
    "To validate this approach, the Test_DataQuality.ipynb was designed to feed the corrected data into a simple CNN model and evaluate its performance. If the model achieves high accuracy (close to 99%) despite its simplicity, it indicates that the dataset itself is well-prepared and of good quality."
   ]
  },
  {
   "cell_type": "code",
   "execution_count": null,
   "id": "2185f74f-cf89-4289-aef2-550013a309b1",
   "metadata": {},
   "outputs": [],
   "source": []
  }
 ],
 "metadata": {
  "kernelspec": {
   "display_name": "Python 3 (ipykernel)",
   "language": "python",
   "name": "python3"
  },
  "language_info": {
   "codemirror_mode": {
    "name": "ipython",
    "version": 3
   },
   "file_extension": ".py",
   "mimetype": "text/x-python",
   "name": "python",
   "nbconvert_exporter": "python",
   "pygments_lexer": "ipython3",
   "version": "3.10.16"
  }
 },
 "nbformat": 4,
 "nbformat_minor": 5
}
