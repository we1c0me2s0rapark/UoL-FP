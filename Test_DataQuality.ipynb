{
 "cells": [
  {
   "cell_type": "markdown",
   "id": "dc5dc1cf-dd03-4815-b5f4-12c4c6e4268b",
   "metadata": {},
   "source": [
    "# Preparation"
   ]
  },
  {
   "cell_type": "code",
   "execution_count": 11,
   "id": "7e9f9386-e76a-4106-9a29-0c9d6da0fb07",
   "metadata": {},
   "outputs": [],
   "source": [
    "# Import libraries\n",
    "import os\n",
    "import glob\n",
    "import pydicom as dicom\n",
    "import numpy as np\n",
    "import pandas as pd\n",
    "import cv2\n",
    "import tensorflow as tf\n",
    "from tensorflow import keras\n",
    "from sklearn.model_selection import train_test_split\n",
    "from keras.utils import to_categorical"
   ]
  },
  {
   "cell_type": "code",
   "execution_count": 12,
   "id": "f8eed1af-f4af-4636-8a35-9a09b9514607",
   "metadata": {},
   "outputs": [
    {
     "name": "stdout",
     "output_type": "stream",
     "text": [
      "Dataset path: C:\\Users\\lejam\\Desktop\\CBIS-DDSM\\manifest-1748122768688\n",
      "Meta path: C:\\Users\\lejam\\Desktop\\CBIS-DDSM\\manifest-1748122768688\\metadata.csv\n",
      "Mass training data path: C:\\Users\\lejam\\Desktop\\CBIS-DDSM\\manifest-1748122768688\\new_mass_case_description_train_set.csv\n",
      "Mass test data path: C:\\Users\\lejam\\Desktop\\CBIS-DDSM\\manifest-1748122768688\\new_mass_case_description_test_set.csv\n"
     ]
    }
   ],
   "source": [
    "# Import custom definitions\n",
    "from definitions import *\n",
    "\n",
    "print(f\"Dataset path: {data_root}\")\n",
    "print(f\"Meta path: {meta_path}\")\n",
    "print(f\"Mass training data path: {new_mass_train_path}\")\n",
    "print(f\"Mass test data path: {new_mass_test_path}\")"
   ]
  },
  {
   "cell_type": "markdown",
   "id": "40dff2f5-1235-458b-a88d-3ed1eb4e796c",
   "metadata": {},
   "source": [
    "### Retreive mass datasets"
   ]
  },
  {
   "cell_type": "code",
   "execution_count": 13,
   "id": "bfad41b6-08e5-48d4-9f94-e0d5d8cf8d41",
   "metadata": {},
   "outputs": [],
   "source": [
    "# Load updated mass datasets\n",
    "new_mass_train = pd.read_csv(new_mass_train_path)\n",
    "new_mass_test = pd.read_csv(new_mass_test_path)"
   ]
  },
  {
   "cell_type": "code",
   "execution_count": 14,
   "id": "fe3c1a8f-3e7b-4bbf-aa42-3402763bbeee",
   "metadata": {},
   "outputs": [
    {
     "data": {
      "text/html": [
       "<div>\n",
       "<style scoped>\n",
       "    .dataframe tbody tr th:only-of-type {\n",
       "        vertical-align: middle;\n",
       "    }\n",
       "\n",
       "    .dataframe tbody tr th {\n",
       "        vertical-align: top;\n",
       "    }\n",
       "\n",
       "    .dataframe thead th {\n",
       "        text-align: right;\n",
       "    }\n",
       "</style>\n",
       "<table border=\"1\" class=\"dataframe\">\n",
       "  <thead>\n",
       "    <tr style=\"text-align: right;\">\n",
       "      <th></th>\n",
       "      <th>patient_id</th>\n",
       "      <th>breast_density</th>\n",
       "      <th>left or right breast</th>\n",
       "      <th>image view</th>\n",
       "      <th>abnormality id</th>\n",
       "      <th>abnormality type</th>\n",
       "      <th>mass shape</th>\n",
       "      <th>mass margins</th>\n",
       "      <th>assessment</th>\n",
       "      <th>pathology</th>\n",
       "      <th>subtlety</th>\n",
       "      <th>image file path</th>\n",
       "      <th>cropped image file path</th>\n",
       "      <th>ROI mask file path</th>\n",
       "    </tr>\n",
       "  </thead>\n",
       "  <tbody>\n",
       "    <tr>\n",
       "      <th>0</th>\n",
       "      <td>P_00001</td>\n",
       "      <td>3</td>\n",
       "      <td>LEFT</td>\n",
       "      <td>CC</td>\n",
       "      <td>1</td>\n",
       "      <td>mass</td>\n",
       "      <td>IRREGULAR-ARCHITECTURAL_DISTORTION</td>\n",
       "      <td>SPICULATED</td>\n",
       "      <td>4</td>\n",
       "      <td>MALIGNANT</td>\n",
       "      <td>4</td>\n",
       "      <td>Mass-Training_P_00001_LEFT_CC\\07-20-2016-DDSM-...</td>\n",
       "      <td>Mass-Training_P_00001_LEFT_CC_1\\07-21-2016-DDS...</td>\n",
       "      <td>Mass-Training_P_00001_LEFT_CC_1\\07-21-2016-DDS...</td>\n",
       "    </tr>\n",
       "    <tr>\n",
       "      <th>1</th>\n",
       "      <td>P_00001</td>\n",
       "      <td>3</td>\n",
       "      <td>LEFT</td>\n",
       "      <td>MLO</td>\n",
       "      <td>1</td>\n",
       "      <td>mass</td>\n",
       "      <td>IRREGULAR-ARCHITECTURAL_DISTORTION</td>\n",
       "      <td>SPICULATED</td>\n",
       "      <td>4</td>\n",
       "      <td>MALIGNANT</td>\n",
       "      <td>4</td>\n",
       "      <td>Mass-Training_P_00001_LEFT_MLO\\07-20-2016-DDSM...</td>\n",
       "      <td>Mass-Training_P_00001_LEFT_MLO_1\\07-21-2016-DD...</td>\n",
       "      <td>Mass-Training_P_00001_LEFT_MLO_1\\07-21-2016-DD...</td>\n",
       "    </tr>\n",
       "  </tbody>\n",
       "</table>\n",
       "</div>"
      ],
      "text/plain": [
       "  patient_id  breast_density left or right breast image view  abnormality id  \\\n",
       "0    P_00001               3                 LEFT         CC               1   \n",
       "1    P_00001               3                 LEFT        MLO               1   \n",
       "\n",
       "  abnormality type                          mass shape mass margins  \\\n",
       "0             mass  IRREGULAR-ARCHITECTURAL_DISTORTION   SPICULATED   \n",
       "1             mass  IRREGULAR-ARCHITECTURAL_DISTORTION   SPICULATED   \n",
       "\n",
       "   assessment  pathology  subtlety  \\\n",
       "0           4  MALIGNANT         4   \n",
       "1           4  MALIGNANT         4   \n",
       "\n",
       "                                     image file path  \\\n",
       "0  Mass-Training_P_00001_LEFT_CC\\07-20-2016-DDSM-...   \n",
       "1  Mass-Training_P_00001_LEFT_MLO\\07-20-2016-DDSM...   \n",
       "\n",
       "                             cropped image file path  \\\n",
       "0  Mass-Training_P_00001_LEFT_CC_1\\07-21-2016-DDS...   \n",
       "1  Mass-Training_P_00001_LEFT_MLO_1\\07-21-2016-DD...   \n",
       "\n",
       "                                  ROI mask file path  \n",
       "0  Mass-Training_P_00001_LEFT_CC_1\\07-21-2016-DDS...  \n",
       "1  Mass-Training_P_00001_LEFT_MLO_1\\07-21-2016-DD...  "
      ]
     },
     "execution_count": 14,
     "metadata": {},
     "output_type": "execute_result"
    }
   ],
   "source": [
    "new_mass_train.head(2)"
   ]
  },
  {
   "cell_type": "code",
   "execution_count": 15,
   "id": "b5525167-eecf-4d76-971f-b873b424d599",
   "metadata": {},
   "outputs": [
    {
     "data": {
      "text/html": [
       "<div>\n",
       "<style scoped>\n",
       "    .dataframe tbody tr th:only-of-type {\n",
       "        vertical-align: middle;\n",
       "    }\n",
       "\n",
       "    .dataframe tbody tr th {\n",
       "        vertical-align: top;\n",
       "    }\n",
       "\n",
       "    .dataframe thead th {\n",
       "        text-align: right;\n",
       "    }\n",
       "</style>\n",
       "<table border=\"1\" class=\"dataframe\">\n",
       "  <thead>\n",
       "    <tr style=\"text-align: right;\">\n",
       "      <th></th>\n",
       "      <th>patient_id</th>\n",
       "      <th>breast_density</th>\n",
       "      <th>left or right breast</th>\n",
       "      <th>image view</th>\n",
       "      <th>abnormality id</th>\n",
       "      <th>abnormality type</th>\n",
       "      <th>mass shape</th>\n",
       "      <th>mass margins</th>\n",
       "      <th>assessment</th>\n",
       "      <th>pathology</th>\n",
       "      <th>subtlety</th>\n",
       "      <th>image file path</th>\n",
       "      <th>cropped image file path</th>\n",
       "      <th>ROI mask file path</th>\n",
       "    </tr>\n",
       "  </thead>\n",
       "  <tbody>\n",
       "    <tr>\n",
       "      <th>0</th>\n",
       "      <td>P_00016</td>\n",
       "      <td>4</td>\n",
       "      <td>LEFT</td>\n",
       "      <td>CC</td>\n",
       "      <td>1</td>\n",
       "      <td>mass</td>\n",
       "      <td>IRREGULAR</td>\n",
       "      <td>SPICULATED</td>\n",
       "      <td>5</td>\n",
       "      <td>MALIGNANT</td>\n",
       "      <td>5</td>\n",
       "      <td>Mass-Test_P_00016_LEFT_CC\\10-04-2016-DDSM-NA-3...</td>\n",
       "      <td>Mass-Test_P_00016_LEFT_CC_1\\10-04-2016-DDSM-NA...</td>\n",
       "      <td>Mass-Test_P_00016_LEFT_CC_1\\10-04-2016-DDSM-NA...</td>\n",
       "    </tr>\n",
       "    <tr>\n",
       "      <th>1</th>\n",
       "      <td>P_00016</td>\n",
       "      <td>4</td>\n",
       "      <td>LEFT</td>\n",
       "      <td>MLO</td>\n",
       "      <td>1</td>\n",
       "      <td>mass</td>\n",
       "      <td>IRREGULAR</td>\n",
       "      <td>SPICULATED</td>\n",
       "      <td>5</td>\n",
       "      <td>MALIGNANT</td>\n",
       "      <td>5</td>\n",
       "      <td>Mass-Test_P_00016_LEFT_MLO\\10-04-2016-DDSM-NA-...</td>\n",
       "      <td>Mass-Test_P_00016_LEFT_MLO_1\\10-04-2016-DDSM-N...</td>\n",
       "      <td>Mass-Test_P_00016_LEFT_MLO_1\\10-04-2016-DDSM-N...</td>\n",
       "    </tr>\n",
       "  </tbody>\n",
       "</table>\n",
       "</div>"
      ],
      "text/plain": [
       "  patient_id  breast_density left or right breast image view  abnormality id  \\\n",
       "0    P_00016               4                 LEFT         CC               1   \n",
       "1    P_00016               4                 LEFT        MLO               1   \n",
       "\n",
       "  abnormality type mass shape mass margins  assessment  pathology  subtlety  \\\n",
       "0             mass  IRREGULAR   SPICULATED           5  MALIGNANT         5   \n",
       "1             mass  IRREGULAR   SPICULATED           5  MALIGNANT         5   \n",
       "\n",
       "                                     image file path  \\\n",
       "0  Mass-Test_P_00016_LEFT_CC\\10-04-2016-DDSM-NA-3...   \n",
       "1  Mass-Test_P_00016_LEFT_MLO\\10-04-2016-DDSM-NA-...   \n",
       "\n",
       "                             cropped image file path  \\\n",
       "0  Mass-Test_P_00016_LEFT_CC_1\\10-04-2016-DDSM-NA...   \n",
       "1  Mass-Test_P_00016_LEFT_MLO_1\\10-04-2016-DDSM-N...   \n",
       "\n",
       "                                  ROI mask file path  \n",
       "0  Mass-Test_P_00016_LEFT_CC_1\\10-04-2016-DDSM-NA...  \n",
       "1  Mass-Test_P_00016_LEFT_MLO_1\\10-04-2016-DDSM-N...  "
      ]
     },
     "execution_count": 15,
     "metadata": {},
     "output_type": "execute_result"
    }
   ],
   "source": [
    "new_mass_test.head(2)"
   ]
  },
  {
   "cell_type": "markdown",
   "id": "ab563fcd-17bc-4bbe-a77e-01b2608c1af7",
   "metadata": {},
   "source": [
    "### Image processing"
   ]
  },
  {
   "cell_type": "code",
   "execution_count": 22,
   "id": "640d8495-49cd-444a-87dd-292830b75270",
   "metadata": {},
   "outputs": [],
   "source": [
    "def image_processor(image_path, target_size):\n",
    "    path = os.path.join(data_root,'CBIS-DDSM', image_path)\n",
    "    ds = dicom.dcmread(path)\n",
    "    ds = ds.pixel_array\n",
    "    ds_2d = ds.astype(float)\n",
    "    ds_2d_scaled = (np.maximum(ds_2d, 0) / ds_2d.max()) * 255.0\n",
    "    ds_2d_scaled = np.uint8(ds_2d_scaled)\n",
    "    ds_2d_scaled = cv2.cvtColor(ds_2d_scaled, cv2.COLOR_BGR2RGB)\n",
    "    ds_2d_scaled = cv2.resize(ds_2d_scaled, (target_size[1], target_size[0]))\n",
    "    ds_2d_scaled = ds_2d_scaled.astype(float) / 255.0\n",
    "    return ds_2d_scaled"
   ]
  },
  {
   "cell_type": "code",
   "execution_count": 27,
   "id": "e99c3841-407f-4809-9461-0129ce722d4f",
   "metadata": {},
   "outputs": [],
   "source": [
    "# Merge mass_train and mass_test datasets\n",
    "merged_mass = pd.concat([new_mass_train, new_mass_test], axis=0)"
   ]
  },
  {
   "cell_type": "code",
   "execution_count": 28,
   "id": "14b8a195-cb8b-4fc1-bc24-a351aa9fa8f0",
   "metadata": {},
   "outputs": [
    {
     "data": {
      "text/plain": [
       "patient_id                  0\n",
       "breast_density              0\n",
       "left or right breast        0\n",
       "image view                  0\n",
       "abnormality id              0\n",
       "abnormality type            0\n",
       "mass shape                  4\n",
       "mass margins               60\n",
       "assessment                  0\n",
       "pathology                   0\n",
       "subtlety                    0\n",
       "image file path             0\n",
       "cropped image file path     0\n",
       "ROI mask file path          0\n",
       "dtype: int64"
      ]
     },
     "execution_count": 28,
     "metadata": {},
     "output_type": "execute_result"
    }
   ],
   "source": [
    "# Check for null values\n",
    "merged_mass.isnull().sum()"
   ]
  },
  {
   "cell_type": "code",
   "execution_count": 29,
   "id": "52af10cf-183b-4f53-9f57-2e6a9f355b2c",
   "metadata": {},
   "outputs": [
    {
     "data": {
      "text/plain": [
       "patient_id                 0\n",
       "breast_density             0\n",
       "left or right breast       0\n",
       "image view                 0\n",
       "abnormality id             0\n",
       "abnormality type           0\n",
       "mass shape                 0\n",
       "mass margins               0\n",
       "assessment                 0\n",
       "pathology                  0\n",
       "subtlety                   0\n",
       "image file path            0\n",
       "cropped image file path    0\n",
       "ROI mask file path         0\n",
       "dtype: int64"
      ]
     },
     "execution_count": 29,
     "metadata": {},
     "output_type": "execute_result"
    }
   ],
   "source": [
    "# Fill missing values using backwards fill\n",
    "merged_mass['mass shape'] = merged_mass['mass shape'].bfill()\n",
    "merged_mass['mass margins'] = merged_mass['mass margins'].bfill()\n",
    "\n",
    "# Re-check the number of missing values\n",
    "merged_mass.isnull().sum()"
   ]
  },
  {
   "cell_type": "code",
   "execution_count": 30,
   "id": "d9269dd6-4ca4-4e3e-ac88-f956da5f8889",
   "metadata": {},
   "outputs": [],
   "source": [
    "# Define the target size\n",
    "target_size = (224, 224, 3)\n",
    "\n",
    "# Add pixel colour information by applying the image_processor function\n",
    "merged_mass['processed images'] = merged_mass['image file path'].apply(\n",
    "    lambda x: image_processor(x, target_size))"
   ]
  },
  {
   "cell_type": "code",
   "execution_count": 31,
   "id": "bca4d70d-c2c9-439d-88c8-b918ae511ba3",
   "metadata": {},
   "outputs": [
    {
     "data": {
      "text/plain": [
       "0    [[[1.0, 1.0, 1.0], [1.0, 1.0, 1.0], [1.0, 1.0,...\n",
       "1    [[[1.0, 1.0, 1.0], [1.0, 1.0, 1.0], [1.0, 1.0,...\n",
       "Name: processed images, dtype: object"
      ]
     },
     "execution_count": 31,
     "metadata": {},
     "output_type": "execute_result"
    }
   ],
   "source": [
    "merged_mass['processed images'].head(2)"
   ]
  },
  {
   "cell_type": "code",
   "execution_count": 33,
   "id": "0b5d5b78-59f0-402a-b4b8-bb995036394e",
   "metadata": {},
   "outputs": [
    {
     "name": "stderr",
     "output_type": "stream",
     "text": [
      "C:\\Users\\lejam\\AppData\\Local\\Temp\\ipykernel_37112\\2145462704.py:12: FutureWarning: Downcasting behavior in `replace` is deprecated and will be removed in a future version. To retain the old behavior, explicitly call `result.infer_objects(copy=False)`. To opt-in to the future behavior, set `pd.set_option('future.no_silent_downcasting', True)`\n",
      "  merged_mass['labels'] = merged_mass['pathology'].replace(class_mapper)\n"
     ]
    }
   ],
   "source": [
    "# Create a binary mapper\n",
    "class_mapper = {\n",
    "    'MALIGNANT': 1,\n",
    "    'BENIGN': 0,\n",
    "    'BENIGN_WITHOUT_CALLBACK': 0\n",
    "}\n",
    "\n",
    "# Convert the 'processed images' column to an array\n",
    "X_resized = np.array(merged_mass['processed images'].tolist())\n",
    "\n",
    "# Apply the class mapper to the 'pathology' column\n",
    "merged_mass['labels'] = merged_mass['pathology'].replace(class_mapper)\n",
    "num_classes = len(merged_mass['labels'].unique())"
   ]
  },
  {
   "cell_type": "code",
   "execution_count": 34,
   "id": "842e3d34-a100-48a2-add8-49a22403d2b8",
   "metadata": {},
   "outputs": [
    {
     "name": "stdout",
     "output_type": "stream",
     "text": [
      "X_train shape: (1356, 224, 224, 3)\n",
      "X_test shape: (340, 224, 224, 3)\n",
      "y_train shape: (1356, 2)\n",
      "y_test shape: (340, 2)\n"
     ]
    }
   ],
   "source": [
    "# Split data into training and test\n",
    "X_train, X_test, y_train, y_test = train_test_split(\n",
    "    X_resized, merged_mass['labels'].values, test_size=0.2, random_state=42)\n",
    "\n",
    "y_train = to_categorical(y_train, num_classes=num_classes)\n",
    "y_test = to_categorical(y_test, num_classes=num_classes)\n",
    "\n",
    "print(f\"X_train shape: {X_train.shape}\")\n",
    "print(f\"X_test shape: {X_test.shape}\")\n",
    "print(f\"y_train shape: {y_train.shape}\")\n",
    "print(f\"y_test shape: {y_test.shape}\")"
   ]
  },
  {
   "cell_type": "markdown",
   "id": "b0c18608-68bb-4e41-9cc9-a839aea91fbb",
   "metadata": {},
   "source": [
    "# CNN Architecture"
   ]
  },
  {
   "cell_type": "code",
   "execution_count": 35,
   "id": "5f26214b-e3f6-4bed-b161-fe35184f79b4",
   "metadata": {},
   "outputs": [],
   "source": [
    "from keras.models import Sequential\n",
    "from keras.layers import Conv2D, MaxPooling2D, Flatten, Dense, LeakyReLU\n",
    "from keras.optimizers import Adam, SGD, Nadam\n",
    "from tensorflow.keras.preprocessing.image import ImageDataGenerator\n",
    "from tensorflow.keras.regularizers import l2\n",
    "from keras.applications import InceptionResNetV2\n",
    "from keras.utils import plot_model"
   ]
  },
  {
   "cell_type": "code",
   "execution_count": 37,
   "id": "ce043656-d1d8-4a94-a17b-3ca8d7572e52",
   "metadata": {},
   "outputs": [],
   "source": [
    "# Augment training data using various transformations\n",
    "train_datagen = ImageDataGenerator(\n",
    "    rotation_range=40,\n",
    "    width_shift_range=0.2,\n",
    "    height_shift_range=0.2,\n",
    "    shear_range=0.2,\n",
    "    zoom_range=0.2,\n",
    "    horizontal_flip=True,\n",
    "    fill_mode='nearest',\n",
    "    channel_shift_range=20)\n",
    "\n",
    "# Apply augmentation to training data\n",
    "image_size=224\n",
    "mode = InceptionResNetV2(input_shape=(image_size, image_size, 3), include_top=False, weights='imagenet')\n",
    "\n",
    "# Freeze all layers except the last 5 so the model retains general visual features from ImageNet,\n",
    "# while allowing the last layers to fine-tune and adapt to the new task-specific dataset\n",
    "for layer in mode.layers[:-5]:\n",
    "    layer.trainable = False"
   ]
  },
  {
   "cell_type": "markdown",
   "id": "1b550e69-958d-4da3-beb0-9a52fabd590e",
   "metadata": {},
   "source": [
    "### Model architecture and training"
   ]
  },
  {
   "cell_type": "code",
   "execution_count": 38,
   "id": "7130f47c-95a6-4fb2-9795-390c996f0faa",
   "metadata": {},
   "outputs": [
    {
     "name": "stdout",
     "output_type": "stream",
     "text": [
      "Epoch 1/10\n",
      "\u001b[1m19/19\u001b[0m \u001b[32m━━━━━━━━━━━━━━━━━━━━\u001b[0m\u001b[37m\u001b[0m \u001b[1m140s\u001b[0m 6s/step - accuracy: 0.5594 - loss: 3.5922 - val_accuracy: 0.5735 - val_loss: 3.1638\n",
      "Epoch 2/10\n",
      "\u001b[1m19/19\u001b[0m \u001b[32m━━━━━━━━━━━━━━━━━━━━\u001b[0m\u001b[37m\u001b[0m \u001b[1m130s\u001b[0m 6s/step - accuracy: 0.7686 - loss: 2.9090 - val_accuracy: 0.6000 - val_loss: 3.2300\n",
      "Epoch 3/10\n",
      "\u001b[1m19/19\u001b[0m \u001b[32m━━━━━━━━━━━━━━━━━━━━\u001b[0m\u001b[37m\u001b[0m \u001b[1m139s\u001b[0m 5s/step - accuracy: 0.8588 - loss: 2.6059 - val_accuracy: 0.6265 - val_loss: 2.8966\n",
      "Epoch 4/10\n",
      "\u001b[1m19/19\u001b[0m \u001b[32m━━━━━━━━━━━━━━━━━━━━\u001b[0m\u001b[37m\u001b[0m \u001b[1m145s\u001b[0m 6s/step - accuracy: 0.9466 - loss: 2.3246 - val_accuracy: 0.6265 - val_loss: 2.8233\n",
      "Epoch 5/10\n",
      "\u001b[1m19/19\u001b[0m \u001b[32m━━━━━━━━━━━━━━━━━━━━\u001b[0m\u001b[37m\u001b[0m \u001b[1m100s\u001b[0m 5s/step - accuracy: 0.9835 - loss: 2.1175 - val_accuracy: 0.6500 - val_loss: 2.7320\n",
      "Epoch 6/10\n",
      "\u001b[1m19/19\u001b[0m \u001b[32m━━━━━━━━━━━━━━━━━━━━\u001b[0m\u001b[37m\u001b[0m \u001b[1m102s\u001b[0m 5s/step - accuracy: 0.9921 - loss: 1.9578 - val_accuracy: 0.6559 - val_loss: 2.5788\n",
      "Epoch 7/10\n",
      "\u001b[1m19/19\u001b[0m \u001b[32m━━━━━━━━━━━━━━━━━━━━\u001b[0m\u001b[37m\u001b[0m \u001b[1m147s\u001b[0m 6s/step - accuracy: 0.9971 - loss: 1.8062 - val_accuracy: 0.6206 - val_loss: 2.5477\n",
      "Epoch 8/10\n",
      "\u001b[1m19/19\u001b[0m \u001b[32m━━━━━━━━━━━━━━━━━━━━\u001b[0m\u001b[37m\u001b[0m \u001b[1m104s\u001b[0m 6s/step - accuracy: 0.9931 - loss: 1.7073 - val_accuracy: 0.6176 - val_loss: 2.4966\n",
      "Epoch 9/10\n",
      "\u001b[1m19/19\u001b[0m \u001b[32m━━━━━━━━━━━━━━━━━━━━\u001b[0m\u001b[37m\u001b[0m \u001b[1m100s\u001b[0m 5s/step - accuracy: 0.9972 - loss: 1.5898 - val_accuracy: 0.6353 - val_loss: 2.4173\n",
      "Epoch 10/10\n",
      "\u001b[1m19/19\u001b[0m \u001b[32m━━━━━━━━━━━━━━━━━━━━\u001b[0m\u001b[37m\u001b[0m \u001b[1m102s\u001b[0m 5s/step - accuracy: 0.9891 - loss: 1.5081 - val_accuracy: 0.6559 - val_loss: 2.2918\n"
     ]
    }
   ],
   "source": [
    "# instantiate CNN model\n",
    "model = tf.keras.Sequential([\n",
    "    mode,\n",
    "    Flatten(),\n",
    "    Dense(128, activation='relu', kernel_regularizer=l2(0.01)),\n",
    "    Dense(2, activation='softmax')\n",
    "])\n",
    "\n",
    "# compile model\n",
    "model.compile(\n",
    "    loss='categorical_crossentropy',\n",
    "    optimizer=Nadam(learning_rate=0.0001),\n",
    "    metrics=['accuracy'])\n",
    "\n",
    "# train model\n",
    "history = model.fit(\n",
    "    X_train, y_train, validation_data = (X_test, y_test), epochs=10 , batch_size=75)"
   ]
  },
  {
   "cell_type": "markdown",
   "id": "3bd7caa9-a3a8-46f4-a113-8ffe721d2ac7",
   "metadata": {},
   "source": [
    "### Evaluation"
   ]
  },
  {
   "cell_type": "code",
   "execution_count": 40,
   "id": "786cd57e-6210-440a-92c0-7c1d48a9316f",
   "metadata": {},
   "outputs": [
    {
     "name": "stdout",
     "output_type": "stream",
     "text": [
      "\u001b[1m11/11\u001b[0m \u001b[32m━━━━━━━━━━━━━━━━━━━━\u001b[0m\u001b[37m\u001b[0m \u001b[1m21s\u001b[0m 2s/step - accuracy: 0.6622 - loss: 2.2362\n"
     ]
    },
    {
     "data": {
      "text/plain": [
       "[2.2918169498443604, 0.6558823585510254]"
      ]
     },
     "execution_count": 40,
     "metadata": {},
     "output_type": "execute_result"
    }
   ],
   "source": [
    "model.evaluate(X_test, y_test)"
   ]
  },
  {
   "cell_type": "markdown",
   "id": "c4c619a9-c9db-4aa7-b7d2-b89c0924c895",
   "metadata": {},
   "source": [
    "### Report"
   ]
  },
  {
   "cell_type": "code",
   "execution_count": 41,
   "id": "9636657b-235c-41a7-afcb-5ad42f7b4204",
   "metadata": {},
   "outputs": [
    {
     "data": {
      "image/png": "[encoded data removed]",
      "text/plain": [
       "<Figure size 640x480 with 1 Axes>"
      ]
     },
     "metadata": {},
     "output_type": "display_data"
    }
   ],
   "source": [
    "import matplotlib.pyplot as plt\n",
    "\n",
    "# Visualise model history\n",
    "plt.plot(history.history['accuracy'], label='Training accuracy')\n",
    "plt.plot(history.history['val_accuracy'], label='Validation accuracy')\n",
    "plt.title('training / validation accuracies')\n",
    "plt.ylabel('Accuracy')\n",
    "plt.xlabel('Epoch')\n",
    "plt.legend(loc=\"upper left\")\n",
    "plt.show()"
   ]
  },
  {
   "cell_type": "code",
   "execution_count": 42,
   "id": "97312c9a-b770-483b-924f-73c44c32b5e6",
   "metadata": {},
   "outputs": [
    {
     "data": {
      "image/png": "[encoded data removed]",
      "text/plain": [
       "<Figure size 640x480 with 1 Axes>"
      ]
     },
     "metadata": {},
     "output_type": "display_data"
    }
   ],
   "source": [
    "plt.plot(history.history['loss'], label='Training loss')\n",
    "plt.plot(history.history['val_loss'], label='Validation loss')\n",
    "plt.title('ReLU training / validation loss values')\n",
    "plt.ylabel('Loss value')\n",
    "plt.xlabel('Epoch')\n",
    "plt.legend(loc=\"upper left\")\n",
    "plt.show()"
   ]
  },
  {
   "cell_type": "markdown",
   "id": "1b52da80-9c60-495c-bbdd-dbb98c53d8a7",
   "metadata": {},
   "source": [
    "### Summary"
   ]
  },
  {
   "cell_type": "markdown",
   "id": "718e663f-e4da-4ffb-ac37-aed407d3bf8a",
   "metadata": {},
   "source": [
    "This practice focuses on processing the CBIS-DDSM dataset, where image paths (i.e., 'image file path', 'cropped image file path', and 'ROI mask file path' columns in both the mass_train and mass_test datasets) were corrected using the UpdateInfo.ipynb file.\n",
    "\n",
    "During preprocessing, the trainable data was prepared by merging the two updated mass datasets. It was observed that pixel arrays obtained from reading DICOM files were not compatible with OpenCV's cv2.imread() function. Since the model expects input data normalised to a range between 0 and 1, each pixel value needs to be divided by 255. However, DICOM images store pixel values as unsigned 16-bit integers, ranging from 0 to 65,535. Therefore, appropriate scaling was applied.\n",
    "\n",
    "The processed data was used to train a simple CNN model. Although the model achieved over 99% training accuracy, its evaluation accuracy was around 66%. This discrepancy suggests that the low performance on evaluation is unlikely due to data quality, as the model still trained effectively on the preprocessed inputs.\n",
    "\n",
    "In the next phase, a modified U-Net architecture will be implemented and optimised to improve generalisation and evaluation performance."
   ]
  },
  {
   "cell_type": "code",
   "execution_count": null,
   "id": "9b1e5986-17d6-45c7-8d3f-1e988262c6e1",
   "metadata": {},
   "outputs": [],
   "source": []
  }
 ],
 "metadata": {
  "kernelspec": {
   "display_name": "Python 3 (ipykernel)",
   "language": "python",
   "name": "python3"
  },
  "language_info": {
   "codemirror_mode": {
    "name": "ipython",
    "version": 3
   },
   "file_extension": ".py",
   "mimetype": "text/x-python",
   "name": "python",
   "nbconvert_exporter": "python",
   "pygments_lexer": "ipython3",
   "version": "3.10.16"
  }
 },
 "nbformat": 4,
 "nbformat_minor": 5
}
