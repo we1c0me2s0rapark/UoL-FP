{
 "cells": [
  {
   "cell_type": "code",
   "execution_count": 1,
   "id": "b4931025-9ae4-4884-a0ba-c8a13429e3ae",
   "metadata": {},
   "outputs": [],
   "source": [
    "# Import libraries\n",
    "import os\n",
    "import glob\n",
    "import pydicom as dicom\n",
    "import numpy as np\n",
    "import pandas as pd\n",
    "import cv2"
   ]
  },
  {
   "cell_type": "code",
   "execution_count": 2,
   "id": "6440c227-ed0b-41d6-b3c2-b35c1e0ec961",
   "metadata": {},
   "outputs": [],
   "source": [
    "import torch\n",
    "import keras\n",
    "import tensorflow as tf\n",
    "from keras.models import Sequential\n",
    "from keras.layers import Conv2D, MaxPooling2D, Flatten, Dense, LeakyReLU\n",
    "from keras.optimizers import Adam, SGD, Nadam\n",
    "from tensorflow.keras import layers\n",
    "from tensorflow.keras.preprocessing.image import ImageDataGenerator\n",
    "from tensorflow.keras.regularizers import l2\n",
    "from keras.applications import InceptionResNetV2\n",
    "from keras.utils import plot_model"
   ]
  },
  {
   "cell_type": "code",
   "execution_count": 3,
   "id": "ab812fe6-4eb6-4641-ae0f-423faa7fb072",
   "metadata": {},
   "outputs": [
    {
     "name": "stdout",
     "output_type": "stream",
     "text": [
      "Dataset path: C:\\Users\\lejam\\Desktop\\CBIS-DDSM\\manifest-1748122768688\n",
      "Meta path: C:\\Users\\lejam\\Desktop\\CBIS-DDSM\\manifest-1748122768688\\metadata.csv\n",
      "Mass training data path: C:\\Users\\lejam\\Desktop\\CBIS-DDSM\\manifest-1748122768688\\new_mass_case_description_train_set.csv\n",
      "Mass test data path: C:\\Users\\lejam\\Desktop\\CBIS-DDSM\\manifest-1748122768688\\new_mass_case_description_test_set.csv\n",
      "Mass train tensor path: C:\\Users\\lejam\\Desktop\\CBIS-DDSM\\manifest-1748122768688\\mass_tensor\\train\n",
      "Mass test tensor path: C:\\Users\\lejam\\Desktop\\CBIS-DDSM\\manifest-1748122768688\\mass_tensor\\test\n"
     ]
    }
   ],
   "source": [
    "# Import custom definitions\n",
    "from definitions import *\n",
    "\n",
    "print(f\"Dataset path: {data_root}\")\n",
    "print(f\"Meta path: {meta_path}\")\n",
    "print(f\"Mass training data path: {new_mass_train_path}\")\n",
    "print(f\"Mass test data path: {new_mass_test_path}\")\n",
    "print(f\"Mass train tensor path: {mass_train_tensor_path}\")\n",
    "print(f\"Mass test tensor path: {mass_test_tensor_path}\")"
   ]
  },
  {
   "cell_type": "markdown",
   "id": "16d5beb0-fb3f-4151-898d-af608fe8719a",
   "metadata": {},
   "source": [
    "# datasets"
   ]
  },
  {
   "cell_type": "code",
   "execution_count": 4,
   "id": "6fb0a4e9-6cb6-4806-af41-9da4fe4311cb",
   "metadata": {},
   "outputs": [],
   "source": [
    "# Load updated mass datasets\n",
    "new_mass_train = pd.read_csv(new_mass_train_path)\n",
    "new_mass_test = pd.read_csv(new_mass_test_path)"
   ]
  },
  {
   "cell_type": "code",
   "execution_count": 5,
   "id": "700748a2-a6b7-4a48-84d6-e550f0420a11",
   "metadata": {},
   "outputs": [
    {
     "name": "stdout",
     "output_type": "stream",
     "text": [
      "(1318, 14)\n"
     ]
    },
    {
     "data": {
      "text/html": [
       "<div>\n",
       "<style scoped>\n",
       "    .dataframe tbody tr th:only-of-type {\n",
       "        vertical-align: middle;\n",
       "    }\n",
       "\n",
       "    .dataframe tbody tr th {\n",
       "        vertical-align: top;\n",
       "    }\n",
       "\n",
       "    .dataframe thead th {\n",
       "        text-align: right;\n",
       "    }\n",
       "</style>\n",
       "<table border=\"1\" class=\"dataframe\">\n",
       "  <thead>\n",
       "    <tr style=\"text-align: right;\">\n",
       "      <th></th>\n",
       "      <th>patient_id</th>\n",
       "      <th>breast_density</th>\n",
       "      <th>left or right breast</th>\n",
       "      <th>image view</th>\n",
       "      <th>abnormality id</th>\n",
       "      <th>abnormality type</th>\n",
       "      <th>mass shape</th>\n",
       "      <th>mass margins</th>\n",
       "      <th>assessment</th>\n",
       "      <th>pathology</th>\n",
       "      <th>subtlety</th>\n",
       "      <th>image file path</th>\n",
       "      <th>cropped image file path</th>\n",
       "      <th>ROI mask file path</th>\n",
       "    </tr>\n",
       "  </thead>\n",
       "  <tbody>\n",
       "    <tr>\n",
       "      <th>0</th>\n",
       "      <td>P_00001</td>\n",
       "      <td>3</td>\n",
       "      <td>LEFT</td>\n",
       "      <td>CC</td>\n",
       "      <td>1</td>\n",
       "      <td>mass</td>\n",
       "      <td>IRREGULAR-ARCHITECTURAL_DISTORTION</td>\n",
       "      <td>SPICULATED</td>\n",
       "      <td>4</td>\n",
       "      <td>MALIGNANT</td>\n",
       "      <td>4</td>\n",
       "      <td>Mass-Training_P_00001_LEFT_CC\\07-20-2016-DDSM-...</td>\n",
       "      <td>Mass-Training_P_00001_LEFT_CC_1\\07-21-2016-DDS...</td>\n",
       "      <td>Mass-Training_P_00001_LEFT_CC_1\\07-21-2016-DDS...</td>\n",
       "    </tr>\n",
       "    <tr>\n",
       "      <th>1</th>\n",
       "      <td>P_00001</td>\n",
       "      <td>3</td>\n",
       "      <td>LEFT</td>\n",
       "      <td>MLO</td>\n",
       "      <td>1</td>\n",
       "      <td>mass</td>\n",
       "      <td>IRREGULAR-ARCHITECTURAL_DISTORTION</td>\n",
       "      <td>SPICULATED</td>\n",
       "      <td>4</td>\n",
       "      <td>MALIGNANT</td>\n",
       "      <td>4</td>\n",
       "      <td>Mass-Training_P_00001_LEFT_MLO\\07-20-2016-DDSM...</td>\n",
       "      <td>Mass-Training_P_00001_LEFT_MLO_1\\07-21-2016-DD...</td>\n",
       "      <td>Mass-Training_P_00001_LEFT_MLO_1\\07-21-2016-DD...</td>\n",
       "    </tr>\n",
       "  </tbody>\n",
       "</table>\n",
       "</div>"
      ],
      "text/plain": [
       "  patient_id  breast_density left or right breast image view  abnormality id  \\\n",
       "0    P_00001               3                 LEFT         CC               1   \n",
       "1    P_00001               3                 LEFT        MLO               1   \n",
       "\n",
       "  abnormality type                          mass shape mass margins  \\\n",
       "0             mass  IRREGULAR-ARCHITECTURAL_DISTORTION   SPICULATED   \n",
       "1             mass  IRREGULAR-ARCHITECTURAL_DISTORTION   SPICULATED   \n",
       "\n",
       "   assessment  pathology  subtlety  \\\n",
       "0           4  MALIGNANT         4   \n",
       "1           4  MALIGNANT         4   \n",
       "\n",
       "                                     image file path  \\\n",
       "0  Mass-Training_P_00001_LEFT_CC\\07-20-2016-DDSM-...   \n",
       "1  Mass-Training_P_00001_LEFT_MLO\\07-20-2016-DDSM...   \n",
       "\n",
       "                             cropped image file path  \\\n",
       "0  Mass-Training_P_00001_LEFT_CC_1\\07-21-2016-DDS...   \n",
       "1  Mass-Training_P_00001_LEFT_MLO_1\\07-21-2016-DD...   \n",
       "\n",
       "                                  ROI mask file path  \n",
       "0  Mass-Training_P_00001_LEFT_CC_1\\07-21-2016-DDS...  \n",
       "1  Mass-Training_P_00001_LEFT_MLO_1\\07-21-2016-DD...  "
      ]
     },
     "execution_count": 5,
     "metadata": {},
     "output_type": "execute_result"
    }
   ],
   "source": [
    "print(new_mass_train.shape)\n",
    "new_mass_train.head(2)"
   ]
  },
  {
   "cell_type": "code",
   "execution_count": 6,
   "id": "8cd1b3b1-a2ca-4c79-b1ec-707131e13780",
   "metadata": {},
   "outputs": [
    {
     "name": "stdout",
     "output_type": "stream",
     "text": [
      "(378, 14)\n"
     ]
    },
    {
     "data": {
      "text/html": [
       "<div>\n",
       "<style scoped>\n",
       "    .dataframe tbody tr th:only-of-type {\n",
       "        vertical-align: middle;\n",
       "    }\n",
       "\n",
       "    .dataframe tbody tr th {\n",
       "        vertical-align: top;\n",
       "    }\n",
       "\n",
       "    .dataframe thead th {\n",
       "        text-align: right;\n",
       "    }\n",
       "</style>\n",
       "<table border=\"1\" class=\"dataframe\">\n",
       "  <thead>\n",
       "    <tr style=\"text-align: right;\">\n",
       "      <th></th>\n",
       "      <th>patient_id</th>\n",
       "      <th>breast_density</th>\n",
       "      <th>left or right breast</th>\n",
       "      <th>image view</th>\n",
       "      <th>abnormality id</th>\n",
       "      <th>abnormality type</th>\n",
       "      <th>mass shape</th>\n",
       "      <th>mass margins</th>\n",
       "      <th>assessment</th>\n",
       "      <th>pathology</th>\n",
       "      <th>subtlety</th>\n",
       "      <th>image file path</th>\n",
       "      <th>cropped image file path</th>\n",
       "      <th>ROI mask file path</th>\n",
       "    </tr>\n",
       "  </thead>\n",
       "  <tbody>\n",
       "    <tr>\n",
       "      <th>0</th>\n",
       "      <td>P_00016</td>\n",
       "      <td>4</td>\n",
       "      <td>LEFT</td>\n",
       "      <td>CC</td>\n",
       "      <td>1</td>\n",
       "      <td>mass</td>\n",
       "      <td>IRREGULAR</td>\n",
       "      <td>SPICULATED</td>\n",
       "      <td>5</td>\n",
       "      <td>MALIGNANT</td>\n",
       "      <td>5</td>\n",
       "      <td>Mass-Test_P_00016_LEFT_CC\\10-04-2016-DDSM-NA-3...</td>\n",
       "      <td>Mass-Test_P_00016_LEFT_CC_1\\10-04-2016-DDSM-NA...</td>\n",
       "      <td>Mass-Test_P_00016_LEFT_CC_1\\10-04-2016-DDSM-NA...</td>\n",
       "    </tr>\n",
       "    <tr>\n",
       "      <th>1</th>\n",
       "      <td>P_00016</td>\n",
       "      <td>4</td>\n",
       "      <td>LEFT</td>\n",
       "      <td>MLO</td>\n",
       "      <td>1</td>\n",
       "      <td>mass</td>\n",
       "      <td>IRREGULAR</td>\n",
       "      <td>SPICULATED</td>\n",
       "      <td>5</td>\n",
       "      <td>MALIGNANT</td>\n",
       "      <td>5</td>\n",
       "      <td>Mass-Test_P_00016_LEFT_MLO\\10-04-2016-DDSM-NA-...</td>\n",
       "      <td>Mass-Test_P_00016_LEFT_MLO_1\\10-04-2016-DDSM-N...</td>\n",
       "      <td>Mass-Test_P_00016_LEFT_MLO_1\\10-04-2016-DDSM-N...</td>\n",
       "    </tr>\n",
       "  </tbody>\n",
       "</table>\n",
       "</div>"
      ],
      "text/plain": [
       "  patient_id  breast_density left or right breast image view  abnormality id  \\\n",
       "0    P_00016               4                 LEFT         CC               1   \n",
       "1    P_00016               4                 LEFT        MLO               1   \n",
       "\n",
       "  abnormality type mass shape mass margins  assessment  pathology  subtlety  \\\n",
       "0             mass  IRREGULAR   SPICULATED           5  MALIGNANT         5   \n",
       "1             mass  IRREGULAR   SPICULATED           5  MALIGNANT         5   \n",
       "\n",
       "                                     image file path  \\\n",
       "0  Mass-Test_P_00016_LEFT_CC\\10-04-2016-DDSM-NA-3...   \n",
       "1  Mass-Test_P_00016_LEFT_MLO\\10-04-2016-DDSM-NA-...   \n",
       "\n",
       "                             cropped image file path  \\\n",
       "0  Mass-Test_P_00016_LEFT_CC_1\\10-04-2016-DDSM-NA...   \n",
       "1  Mass-Test_P_00016_LEFT_MLO_1\\10-04-2016-DDSM-N...   \n",
       "\n",
       "                                  ROI mask file path  \n",
       "0  Mass-Test_P_00016_LEFT_CC_1\\10-04-2016-DDSM-NA...  \n",
       "1  Mass-Test_P_00016_LEFT_MLO_1\\10-04-2016-DDSM-N...  "
      ]
     },
     "execution_count": 6,
     "metadata": {},
     "output_type": "execute_result"
    }
   ],
   "source": [
    "print(new_mass_test.shape)\n",
    "new_mass_test.head(2)"
   ]
  },
  {
   "cell_type": "markdown",
   "id": "fc87b079-ff31-43d5-9462-998a21210cc6",
   "metadata": {},
   "source": [
    "### Extract pixel data from dicom files"
   ]
  },
  {
   "cell_type": "code",
   "execution_count": 7,
   "id": "cb1d1e2e-3508-452c-8d52-d3af82568dca",
   "metadata": {},
   "outputs": [],
   "source": [
    "def image_processor(image_path, target_size):\n",
    "    path = os.path.join(data_root,'CBIS-DDSM', image_path)\n",
    "    ds = dicom.dcmread(path)\n",
    "    ds = ds.pixel_array\n",
    "    ds_2d = ds.astype(float)\n",
    "    ds_2d_scaled = (np.maximum(ds_2d, 0) / ds_2d.max()) * 255.0\n",
    "    ds_2d_scaled = np.uint8(ds_2d_scaled)\n",
    "    ds_2d_scaled = cv2.cvtColor(ds_2d_scaled, cv2.COLOR_BGR2RGB)\n",
    "    ds_resized = tf.image.resize(ds_2d_scaled, (128, 128))\n",
    "    ds_cast = tf.cast(ds_resized, tf.float32) / 255.0\n",
    "    return ds_cast\n",
    "\n",
    "def mask_processor(image_path, target_size):\n",
    "    path = os.path.join(data_root,'CBIS-DDSM', image_path)\n",
    "    ds = dicom.dcmread(path)\n",
    "    ds = ds.pixel_array\n",
    "\n",
    "    # Scaling\n",
    "    ds_2d = ds.astype(float)\n",
    "    ds_2d_scaled = (np.maximum(ds_2d, 0) / ds_2d.max())\n",
    "\n",
    "    ds_2d_scaled = np.uint8(ds_2d_scaled)\n",
    "    ds_2d_scaled = cv2.cvtColor(ds_2d_scaled, cv2.COLOR_BGR2RGB)\n",
    "    ds_resized = tf.image.resize(\n",
    "        ds_2d_scaled, (128, 128), method = tf.image.ResizeMethod.NEAREST_NEIGHBOR)[:, :, 1]\n",
    "\n",
    "    # Ensure final dtype is float32 for the model\n",
    "    ds_cast = tf.cast(ds_resized, tf.float32)\n",
    "\n",
    "    # Explicitly ensure shape (128, 128, 1) by adding a channel dimension if it somehow got lost\n",
    "    if ds_cast.shape.ndims == 2: # If it's (H, W)\n",
    "        ds_cast = tf.expand_dims(ds_cast, axis=-1) # Make it (H, W, 1)\n",
    "\n",
    "    ds_cast = tf.squeeze(ds_cast, axis=-1)\n",
    "    return ds_cast\n",
    "    \n",
    "def load_image(input_image, input_mask, target_size):\n",
    "    input_image = image_processor(input_image, target_size)\n",
    "    input_mask = mask_processor(input_mask, target_size)\n",
    "    return input_image, input_mask"
   ]
  },
  {
   "cell_type": "code",
   "execution_count": 8,
   "id": "c56dd3cb-c173-4e39-9175-81db3d9bbb55",
   "metadata": {},
   "outputs": [
    {
     "data": {
      "image/png": "[encoded data removed]",
      "text/plain": [
       "<Figure size 1000x500 with 2 Axes>"
      ]
     },
     "metadata": {},
     "output_type": "display_data"
    },
    {
     "name": "stdout",
     "output_type": "stream",
     "text": [
      "image shape: (128, 128, 3), dtype: <dtype: 'float32'>\n",
      "mask shape: (128, 128), dtype: <dtype: 'float32'>\n"
     ]
    }
   ],
   "source": [
    "# Test\n",
    "import matplotlib.pyplot as plt\n",
    "\n",
    "image_path = r\"C:\\Users\\lejam\\Desktop\\CBIS-DDSM\\manifest-1748122768688\\CBIS-DDSM\\Mass-Training_P_02092_LEFT_MLO\\07-20-2016-DDSM-NA-65216\\1.000000-full mammogram images-91615\\1-1.dcm\"\n",
    "mask_path = r\"C:\\Users\\lejam\\Desktop\\CBIS-DDSM\\manifest-1748122768688\\CBIS-DDSM\\Mass-Training_P_02092_LEFT_MLO_1\\07-21-2016-DDSM-NA-14412\\1.000000-ROI mask images-30086\\1-1.dcm\"\n",
    "\n",
    "# Display\n",
    "image_data = image_processor(image_path, target_size)\n",
    "mask_data = mask_processor(mask_path, target_size)\n",
    "\n",
    "labels = ['image', 'mask']\n",
    "images = [image_data, mask_data]\n",
    "\n",
    "fig, axes = plt.subplots(1, 2, figsize=(10, 5))\n",
    "\n",
    "for index in range(len(images)):\n",
    "    # Render the image on the current axis\n",
    "    ax = axes[index]\n",
    "    ax.imshow(images[index], cmap='gray')    \n",
    "    ax.set_title(labels[index])\n",
    "    ax.axis('off')\n",
    "    ax.grid(True)\n",
    "# Display the subplot\n",
    "plt.tight_layout()\n",
    "plt.show()\n",
    "\n",
    "print(f\"image shape: {image_data.shape}, dtype: {image_data.dtype}\")\n",
    "print(f\"mask shape: {mask_data.shape}, dtype: {mask_data.dtype}\")"
   ]
  },
  {
   "cell_type": "code",
   "execution_count": 9,
   "id": "6d46c924-529d-4840-b0c9-4ff1b86797aa",
   "metadata": {},
   "outputs": [
    {
     "data": {
      "text/plain": [
       "array([0., 1.], dtype=float32)"
      ]
     },
     "execution_count": 9,
     "metadata": {},
     "output_type": "execute_result"
    }
   ],
   "source": [
    "np.unique(mask_data.numpy())"
   ]
  },
  {
   "cell_type": "code",
   "execution_count": 10,
   "id": "ac66bce5-b6af-4310-9021-c0eeabf6e625",
   "metadata": {},
   "outputs": [],
   "source": [
    "process_train = False\n",
    "process_test = False\n",
    "\n",
    "BATCH_SIZE = 64\n",
    "BUFFER_SIZE = 1000\n",
    "\n",
    "target_train_rows = new_mass_train.shape[0]\n",
    "target_test_rows = new_mass_test.shape[0]\n",
    "target_mass_train = new_mass_train[: target_train_rows]\n",
    "target_mass_test = new_mass_test[: target_test_rows]"
   ]
  },
  {
   "cell_type": "code",
   "execution_count": 11,
   "id": "b4105e75-beb9-42f0-b7b3-407feef9d5e4",
   "metadata": {},
   "outputs": [
    {
     "name": "stdout",
     "output_type": "stream",
     "text": [
      "train image shape: (128, 128, 3), (128, 128)\n"
     ]
    }
   ],
   "source": [
    "train_images = None\n",
    "if process_train:\n",
    "    train_images = tf.data.Dataset.from_tensor_slices((\n",
    "        list(map(lambda x: image_processor(x, target_size), target_mass_train['image file path'])),\n",
    "        list(map(lambda x: mask_processor(x, target_size), target_mass_train['ROI mask file path']))\n",
    "    ))#.batch(BATCH)\n",
    "    #torch.save(train_images, mass_train_tensor_path)\n",
    "    tf.data.Dataset.save(train_images, mass_train_tensor_path)\n",
    "else:\n",
    "    #train_images = torch.load(mass_train_tensor_path)\n",
    "    train_images = tf.data.Dataset.load(mass_train_tensor_path)\n",
    "for x, y in train_images.take(1):\n",
    "    print(f\"train image shape: {x.shape}, {y.shape}\")"
   ]
  },
  {
   "cell_type": "code",
   "execution_count": 12,
   "id": "c696fc1d-255a-493a-8262-75c0d46dfbf2",
   "metadata": {},
   "outputs": [
    {
     "name": "stdout",
     "output_type": "stream",
     "text": [
      "test image shape: (128, 128, 3), (128, 128)\n"
     ]
    }
   ],
   "source": [
    "test_images = None\n",
    "if process_test:\n",
    "    test_images = tf.data.Dataset.from_tensor_slices((\n",
    "        list(map(lambda x: image_processor(x, target_size), target_mass_test['image file path'])),\n",
    "        list(map(lambda x: mask_processor(x, target_size), target_mass_test['ROI mask file path']))\n",
    "    ))\n",
    "    #torch.save(test_images, mass_test_tensor_path)\n",
    "    tf.data.Dataset.save(test_images, mass_test_tensor_path)\n",
    "else:\n",
    "    #test_images = torch.load(mass_test_tensor_path)\n",
    "    test_images = tf.data.Dataset.load(mass_test_tensor_path)\n",
    "for x, y in test_images.take(1):\n",
    "    print(f\"test image shape: {x.shape}, {y.shape}\")"
   ]
  },
  {
   "cell_type": "code",
   "execution_count": 14,
   "id": "23a38979-b958-4393-8659-4d041cd7f71a",
   "metadata": {},
   "outputs": [
    {
     "name": "stdout",
     "output_type": "stream",
     "text": [
      "Number of test_images: 378\n",
      "Validation data size: 302\n",
      "Test batch size: 76\n"
     ]
    }
   ],
   "source": [
    "test_rows = len(test_images)\n",
    "val_size = int(0.8 * test_rows)\n",
    "test_size = test_rows - val_size\n",
    "print(f\"Number of test_images: {test_rows}\")\n",
    "print(f\"Validation data size: {val_size}\")\n",
    "print(f\"Test batch size: {test_size}\")\n",
    "\n",
    "train_batches = train_images.cache().shuffle(BUFFER_SIZE).batch(BATCH_SIZE).repeat()\n",
    "train_batches = train_batches.prefetch(buffer_size=tf.data.experimental.AUTOTUNE)\n",
    "validation_batches = test_images.take(val_size).batch(BATCH_SIZE)\n",
    "test_batches = test_images.skip(val_size).take(test_size).batch(BATCH_SIZE)"
   ]
  },
  {
   "cell_type": "markdown",
   "id": "f97f1c13-74bf-4f43-9645-c27d1b323ea5",
   "metadata": {},
   "source": [
    "# CNN Architecture"
   ]
  },
  {
   "cell_type": "markdown",
   "id": "60bfec7a-e632-456a-aa51-7965cb4145a2",
   "metadata": {},
   "source": [
    "### Model architecture and training"
   ]
  },
  {
   "cell_type": "code",
   "execution_count": 15,
   "id": "406f79ba-206d-4d55-8d27-3fc33e12f7c4",
   "metadata": {},
   "outputs": [],
   "source": [
    "def downsample_block(x, n_filters, padding):\n",
    "    f = double_conv_block(x, n_filters, padding)\n",
    "    p = layers.MaxPool2D(2)(f)\n",
    "    p = layers.Dropout(0.3)(p)\n",
    "    return f, p\n",
    "\n",
    "def upsample_block(x, conv_features, n_filters, padding):\n",
    "    # upsample\n",
    "    x = layers.Conv2DTranspose(\n",
    "        filters=n_filters, kernel_size=3, strides=2, padding=padding,\n",
    "        activation=tf.keras.activations.relu)(x)\n",
    "    # concatenate\n",
    "    x = layers.concatenate([x, conv_features])\n",
    "    # dropout\n",
    "    x = layers.Dropout(0.3)(x)\n",
    "    # Conv2D twice with ReLU activation\n",
    "    x = double_conv_block(x, n_filters, padding)\n",
    "    return x\n",
    "    \n",
    "def double_conv_block(x, n_filters, padding):\n",
    "    # Conv2D then ReLU activation\n",
    "    # params:\n",
    "    #   kernel_initializer: define the way to set the initial random weights of Keras layers\n",
    "    x = layers.Conv2D(\n",
    "        filters=n_filters, kernel_size=3, padding=padding, \n",
    "        activation=tf.keras.activations.relu,\n",
    "        kernel_initializer=tf.keras.initializers.HeNormal)(x)\n",
    "    # Conv2D then ReLU activation\n",
    "    x = layers.Conv2D(\n",
    "        filters=n_filters, kernel_size=3, padding=padding, \n",
    "        activation=tf.keras.activations.relu,\n",
    "        kernel_initializer=tf.keras.initializers.HeNormal)(x)\n",
    "    return x"
   ]
  },
  {
   "cell_type": "code",
   "execution_count": 16,
   "id": "e9ea4e7b-ad11-42e5-b4b8-c1118a1b9633",
   "metadata": {},
   "outputs": [],
   "source": [
    "def build_modified_unet_model():\n",
    "    model = None\n",
    "    try:\n",
    "        inputs = layers.Input(shape=target_size)\n",
    "    \n",
    "        f = [64, 128, 256, 512, 1024]\n",
    "        padding = \"same\"\n",
    "    \n",
    "        # Encoder - Downsampling path\n",
    "        f1, p1 = downsample_block(inputs, f[0], padding)\n",
    "        f2, p2 = downsample_block(p1, f[1], padding)\n",
    "        f3, p3 = downsample_block(p2, f[2], padding)\n",
    "        f4, p4 = downsample_block(p3, f[3], padding)\n",
    "    \n",
    "        # Bottleneck\n",
    "        bottleneck = double_conv_block(p4, f[4], padding)\n",
    "    \n",
    "        # Decoder - Upsampling path\n",
    "        u6 = upsample_block(bottleneck, f4, f[3], padding)\n",
    "        u7 = upsample_block(u6, f3, f[2], padding)\n",
    "        u8 = upsample_block(u7, f2, f[1], padding)\n",
    "        u9 = upsample_block(u8, f1, f[0], padding)\n",
    "    \n",
    "        # Output layer\n",
    "        outputs = layers.Conv2D(\n",
    "            filters=3, kernel_size=1, padding=padding,\n",
    "            activation=tf.keras.activations.softmax)(u9)\n",
    "    \n",
    "        # Model\n",
    "        model = tf.keras.Model(inputs, outputs, name=\"U-Net\")\n",
    "    except Exception as ex:\n",
    "        print(f\"\\nError caught: {ex}\")\n",
    "    finally:\n",
    "        return model"
   ]
  },
  {
   "cell_type": "code",
   "execution_count": 27,
   "id": "0279d76c-91aa-4513-aa90-73fa7136e2d0",
   "metadata": {},
   "outputs": [
    {
     "name": "stdout",
     "output_type": "stream",
     "text": [
      "epochs: 5\n",
      "batch size: 64\n",
      "steps per epoch: 20\n",
      "val subsplits: 5\n",
      "validation steps: 4\n"
     ]
    }
   ],
   "source": [
    "NUM_EPOCHS = 5\n",
    "VAL_SUBSPLITS = 5\n",
    "\n",
    "STEPS_PER_EPOCH = len(train_images) // BATCH_SIZE\n",
    "VALIDATION_STEPS = val_size // BATCH_SIZE #// VAL_SUBSPLITS\n",
    "\n",
    "print(f\"epochs: {NUM_EPOCHS}\")\n",
    "print(f\"batch size: {BATCH_SIZE}\")\n",
    "print(f\"steps per epoch: {STEPS_PER_EPOCH}\")\n",
    "print(f\"val subsplits: {VAL_SUBSPLITS}\")\n",
    "print(f\"validation steps: {VALIDATION_STEPS}\")"
   ]
  },
  {
   "cell_type": "code",
   "execution_count": 28,
   "id": "9d0e5d78-32de-42aa-8da6-8ac666b044fc",
   "metadata": {},
   "outputs": [
    {
     "name": "stdout",
     "output_type": "stream",
     "text": [
      "INFO:tensorflow:Enabled check-numerics callback in thread MainThread\n"
     ]
    }
   ],
   "source": [
    "tf.debugging.enable_check_numerics()\n",
    "\n",
    "model = build_modified_unet_model()\n",
    "\n",
    "model.compile(\n",
    "    optimizer=keras.optimizers.Adam(learning_rate=1e-4, clipnorm=1.0),\n",
    "    # Loss function to minimise\n",
    "    loss=keras.losses.SparseCategoricalCrossentropy(),\n",
    "    # List of metrics to monitor\n",
    "    metrics=[\"accuracy\"])"
   ]
  },
  {
   "cell_type": "code",
   "execution_count": 29,
   "id": "c3c3b2b0-a3f9-44fb-bfa8-17ba72e39cef",
   "metadata": {},
   "outputs": [
    {
     "name": "stdout",
     "output_type": "stream",
     "text": [
      "Epoch 1/5\n",
      "\u001b[1m20/20\u001b[0m \u001b[32m━━━━━━━━━━━━━━━━━━━━\u001b[0m\u001b[37m\u001b[0m \u001b[1m512s\u001b[0m 24s/step - accuracy: 0.8411 - loss: 0.5080 - val_accuracy: 0.9950 - val_loss: 0.3042 - learning_rate: 1.0000e-04\n",
      "Epoch 2/5\n",
      "\u001b[1m20/20\u001b[0m \u001b[32m━━━━━━━━━━━━━━━━━━━━\u001b[0m\u001b[37m\u001b[0m \u001b[1m477s\u001b[0m 24s/step - accuracy: 0.9946 - loss: 0.0595 - val_accuracy: 0.9950 - val_loss: 0.1757 - learning_rate: 1.0000e-04\n",
      "Epoch 3/5\n",
      "\u001b[1m20/20\u001b[0m \u001b[32m━━━━━━━━━━━━━━━━━━━━\u001b[0m\u001b[37m\u001b[0m \u001b[1m473s\u001b[0m 24s/step - accuracy: 0.9951 - loss: 0.0327 - val_accuracy: 0.9950 - val_loss: 0.1613 - learning_rate: 1.0000e-04\n",
      "Epoch 4/5\n",
      "\u001b[1m20/20\u001b[0m \u001b[32m━━━━━━━━━━━━━━━━━━━━\u001b[0m\u001b[37m\u001b[0m \u001b[1m477s\u001b[0m 24s/step - accuracy: 0.9949 - loss: 0.0311 - val_accuracy: 0.9950 - val_loss: 0.1636 - learning_rate: 1.0000e-04\n",
      "Epoch 5/5\n",
      "\u001b[1m20/20\u001b[0m \u001b[32m━━━━━━━━━━━━━━━━━━━━\u001b[0m\u001b[37m\u001b[0m \u001b[1m0s\u001b[0m 24s/step - accuracy: 0.9948 - loss: 0.0296  \n",
      "Epoch 5: ReduceLROnPlateau reducing learning rate to 1.9999999494757503e-05.\n",
      "\u001b[1m20/20\u001b[0m \u001b[32m━━━━━━━━━━━━━━━━━━━━\u001b[0m\u001b[37m\u001b[0m \u001b[1m479s\u001b[0m 24s/step - accuracy: 0.9948 - loss: 0.0296 - val_accuracy: 0.9950 - val_loss: 0.1795 - learning_rate: 1.0000e-04\n",
      "Restoring model weights from the end of the best epoch: 3.\n"
     ]
    }
   ],
   "source": [
    "# Stop training when a monitored metric has stopped improving\n",
    "earlystop =tf.keras.callbacks.EarlyStopping(\n",
    "    monitor=\"val_loss\", patience=3, verbose=1, restore_best_weights=True)\n",
    "# Reduce learning rate when a metric has stopped improving\n",
    "reduce_lr =tf.keras.callbacks.ReduceLROnPlateau(\n",
    "    monitor=\"val_loss\", factor=0.2, patience=2, verbose=1)\n",
    "callbacks=[earlystop, reduce_lr]\n",
    "\n",
    "history = model.fit(\n",
    "    train_batches.repeat(),\n",
    "    epochs=NUM_EPOCHS,\n",
    "    steps_per_epoch=STEPS_PER_EPOCH,\n",
    "    validation_steps=VALIDATION_STEPS,\n",
    "    validation_data=test_batches,\n",
    "    callbacks=callbacks)"
   ]
  },
  {
   "cell_type": "code",
   "execution_count": 33,
   "id": "63f5f3e8-2b7d-4482-ba25-d4c835a198d2",
   "metadata": {},
   "outputs": [],
   "source": [
    "# Save the entire model\n",
    "#model_path = os.path.join(data_root, 'model.h5')\n",
    "#tf.keras.models.save_model(\n",
    "#    model, model_path, overwrite=True, include_optimizer=True)"
   ]
  },
  {
   "cell_type": "code",
   "execution_count": 34,
   "id": "37c058f3-74fe-45ee-b20a-a9dbca70e95e",
   "metadata": {},
   "outputs": [
    {
     "data": {
      "image/png": "[encoded data removed]",
      "text/plain": [
       "<Figure size 640x480 with 1 Axes>"
      ]
     },
     "metadata": {},
     "output_type": "display_data"
    }
   ],
   "source": [
    "# Visualise model history: Accuracy\n",
    "plt.plot(history.history['accuracy'], label='Training accuracy')\n",
    "plt.plot(history.history['val_accuracy'], label='Validation accuracy')\n",
    "plt.title('Training and Validation Accuracies')\n",
    "plt.ylabel('Accuracy')\n",
    "plt.xlabel('Epoch')\n",
    "plt.legend(loc=\"upper left\")\n",
    "plt.show()"
   ]
  },
  {
   "cell_type": "code",
   "execution_count": 35,
   "id": "56273039-8215-4609-a3ae-43d79c110a4d",
   "metadata": {},
   "outputs": [
    {
     "data": {
      "image/png": "[encoded data removed]",
      "text/plain": [
       "<Figure size 640x480 with 1 Axes>"
      ]
     },
     "metadata": {},
     "output_type": "display_data"
    }
   ],
   "source": [
    "# Visualise model history: Loss\n",
    "plt.plot(history.history['loss'], label='Training loss')\n",
    "plt.plot(history.history['val_loss'], label='Validation loss')\n",
    "plt.title('ReLU Training and Validation Loss Values')\n",
    "plt.ylabel('Loss value')\n",
    "plt.xlabel('Epoch')\n",
    "plt.legend(loc=\"upper left\")\n",
    "plt.show()"
   ]
  },
  {
   "cell_type": "code",
   "execution_count": null,
   "id": "9afb92b6-25b4-44fd-9f49-97a518c47216",
   "metadata": {},
   "outputs": [],
   "source": []
  }
 ],
 "metadata": {
  "kernelspec": {
   "display_name": "Python 3 (ipykernel)",
   "language": "python",
   "name": "python3"
  },
  "language_info": {
   "codemirror_mode": {
    "name": "ipython",
    "version": 3
   },
   "file_extension": ".py",
   "mimetype": "text/x-python",
   "name": "python",
   "nbconvert_exporter": "python",
   "pygments_lexer": "ipython3",
   "version": "3.10.16"
  }
 },
 "nbformat": 4,
 "nbformat_minor": 5
}
